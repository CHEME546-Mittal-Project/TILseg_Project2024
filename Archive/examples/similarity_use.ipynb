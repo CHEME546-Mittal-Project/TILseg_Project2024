{
 "cells": [
  {
   "cell_type": "code",
   "execution_count": 1,
   "metadata": {},
   "outputs": [],
   "source": [
    "import os\n",
    "import sys\n",
    "\n",
    "# append specific path to tilseg\n",
    "sys.path.append(\"/Users/stanleycho/TILseg_Project2024\")\n",
    "\n",
    "import numpy as np\n",
    "from tilseg.preprocessing import preprocess\n",
    "from tilseg.seg import KMeans_superpatch_fit, segment_TILs\n",
    "from tilseg.similarity import image_similarity"
   ]
  },
  {
   "cell_type": "code",
   "execution_count": 2,
   "metadata": {},
   "outputs": [
    {
     "name": "stderr",
     "output_type": "stream",
     "text": [
      "/Users/stanleycho/miniconda3/envs/546proj_mac/lib/python3.11/site-packages/threadpoolctl.py:1186: RuntimeWarning: \n",
      "Found Intel OpenMP ('libiomp') and LLVM OpenMP ('libomp') loaded at\n",
      "the same time. Both libraries are known to be incompatible and this\n",
      "can cause random crashes or deadlocks on Linux when loaded in the\n",
      "same Python program.\n",
      "Using threadpoolctl may cause crashes or deadlocks. For more\n",
      "information and possible workarounds, please see\n",
      "    https://github.com/joblib/threadpoolctl/blob/master/multiple_openmp.md\n",
      "\n",
      "  warnings.warn(msg, RuntimeWarning)\n"
     ]
    }
   ],
   "source": [
    "# import reference patch\n",
    "reference_patch = '/Users/stanleycho/slides_folder/reference_patch/reference_patch.tif'\n",
    "reference_path = '/Users/stanleycho/slides_folder/reference_patch'\n",
    "output_path = '/Users/stanleycho/slides_folder'\n",
    "\n",
    "# fit a KMeans model to a reference patch\n",
    "model_reference = KMeans_superpatch_fit(\n",
    "    patch_path = reference_patch,\n",
    "    hyperparameter_dict={'n_clusters': 4})"
   ]
  },
  {
   "cell_type": "code",
   "execution_count": 4,
   "metadata": {},
   "outputs": [
    {
     "ename": "TypeError",
     "evalue": "cannot unpack non-iterable int object",
     "output_type": "error",
     "traceback": [
      "\u001b[0;31m---------------------------------------------------------------------------\u001b[0m",
      "\u001b[0;31mTypeError\u001b[0m                                 Traceback (most recent call last)",
      "Cell \u001b[0;32mIn[4], line 2\u001b[0m\n\u001b[1;32m      1\u001b[0m \u001b[38;5;66;03m# obtain cluster mask\u001b[39;00m\n\u001b[0;32m----> 2\u001b[0m _, _, cluster_mask_dict_reference \u001b[38;5;241m=\u001b[39m segment_TILs(reference_patch,\n\u001b[1;32m      3\u001b[0m                                                  output_path,  \n\u001b[1;32m      4\u001b[0m                                                  hyperparameter_dict\u001b[38;5;241m=\u001b[39m{\u001b[38;5;124m'\u001b[39m\u001b[38;5;124mn_clusters\u001b[39m\u001b[38;5;124m'\u001b[39m: \u001b[38;5;241m4\u001b[39m}, \n\u001b[1;32m      5\u001b[0m                                                  model\u001b[38;5;241m=\u001b[39m\u001b[38;5;28;01mNone\u001b[39;00m,\n\u001b[1;32m      6\u001b[0m                                                  algorithm\u001b[38;5;241m=\u001b[39m\u001b[38;5;124m'\u001b[39m\u001b[38;5;124mKMeans\u001b[39m\u001b[38;5;124m'\u001b[39m,\n\u001b[1;32m      7\u001b[0m                                                  save_TILs_overlay\u001b[38;5;241m=\u001b[39m\u001b[38;5;28;01mFalse\u001b[39;00m,\n\u001b[1;32m      8\u001b[0m                                                  save_cluster_masks\u001b[38;5;241m=\u001b[39m\u001b[38;5;28;01mFalse\u001b[39;00m,\n\u001b[1;32m      9\u001b[0m                                                  save_all_clusters_img\u001b[38;5;241m=\u001b[39m\u001b[38;5;28;01mFalse\u001b[39;00m,\n\u001b[1;32m     10\u001b[0m                                                  save_csv\u001b[38;5;241m=\u001b[39m\u001b[38;5;28;01mFalse\u001b[39;00m,\n\u001b[1;32m     11\u001b[0m                                                  multiple_images\u001b[38;5;241m=\u001b[39m\u001b[38;5;28;01mFalse\u001b[39;00m)\n",
      "File \u001b[0;32m~/TILseg_Project2024/tilseg/seg.py:768\u001b[0m, in \u001b[0;36msegment_TILs\u001b[0;34m(in_dir_path, out_dir_path, hyperparameter_dict, algorithm, model, save_TILs_overlay, save_cluster_masks, save_cluster_overlays, save_all_clusters_img, save_csv, multiple_images)\u001b[0m\n\u001b[1;32m    764\u001b[0m     \u001b[38;5;28;01mpass\u001b[39;00m\n\u001b[1;32m    766\u001b[0m \u001b[38;5;66;03m# function imported from tilseg.cluster_processing module which\u001b[39;00m\n\u001b[1;32m    767\u001b[0m \u001b[38;5;66;03m# produces the images and CSV files and counts the TILs\u001b[39;00m\n\u001b[0;32m--> 768\u001b[0m TIL_count,cluster_mask \u001b[38;5;241m=\u001b[39m image_postprocessing(\n\u001b[1;32m    769\u001b[0m     clusters\u001b[38;5;241m=\u001b[39mlabels\u001b[38;5;241m.\u001b[39mreshape(pred_patch\u001b[38;5;241m.\u001b[39mshape[\u001b[38;5;241m0\u001b[39m], pred_patch\u001b[38;5;241m.\u001b[39mshape[\u001b[38;5;241m1\u001b[39m]),\n\u001b[1;32m    770\u001b[0m     ori_img\u001b[38;5;241m=\u001b[39mpred_patch,\n\u001b[1;32m    771\u001b[0m     filepath\u001b[38;5;241m=\u001b[39mos\u001b[38;5;241m.\u001b[39mpath\u001b[38;5;241m.\u001b[39mjoin(out_dir_path, file[:\u001b[38;5;241m-\u001b[39m\u001b[38;5;241m4\u001b[39m]),\n\u001b[1;32m    772\u001b[0m     gen_all_clusters\u001b[38;5;241m=\u001b[39msave_all_clusters_img,\n\u001b[1;32m    773\u001b[0m     gen_overlays\u001b[38;5;241m=\u001b[39msave_cluster_overlays,\n\u001b[1;32m    774\u001b[0m     gen_tils\u001b[38;5;241m=\u001b[39msave_TILs_overlay,\n\u001b[1;32m    775\u001b[0m     gen_masks\u001b[38;5;241m=\u001b[39msave_cluster_masks,\n\u001b[1;32m    776\u001b[0m     gen_csv\u001b[38;5;241m=\u001b[39msave_csv)\n\u001b[1;32m    778\u001b[0m \u001b[38;5;66;03m# appends the TILs count from the current patch to the dictionary as a\u001b[39;00m\n\u001b[1;32m    779\u001b[0m \u001b[38;5;66;03m# value to a key that is the patch's file name without the extension\u001b[39;00m\n\u001b[1;32m    780\u001b[0m TIL_count_dict[file[:\u001b[38;5;241m-\u001b[39m\u001b[38;5;241m4\u001b[39m]] \u001b[38;5;241m=\u001b[39m TIL_count\n",
      "\u001b[0;31mTypeError\u001b[0m: cannot unpack non-iterable int object"
     ]
    }
   ],
   "source": [
    "# obtain cluster mask\n",
    "_, _, cluster_mask_dict_reference = segment_TILs(reference_patch,\n",
    "                                                 output_path,  \n",
    "                                                 hyperparameter_dict={'n_clusters': 4}, \n",
    "                                                 model=None,\n",
    "                                                 algorithm='KMeans',\n",
    "                                                 save_TILs_overlay=False,\n",
    "                                                 save_cluster_masks=False,\n",
    "                                                 save_all_clusters_img=False,\n",
    "                                                 save_csv=False,\n",
    "                                                 multiple_images=False)"
   ]
  },
  {
   "cell_type": "code",
   "execution_count": null,
   "metadata": {},
   "outputs": [],
   "source": [
    "# superpatch creation\n",
    "superpatch = preprocess(super_patch, patches=6, sp_width=3, max_tile_x=4000, max_tile_y=3000)\n",
    "\n",
    "\n",
    "image_similarity(cluster_mask_dict_reference, cluster_mask_dict_super)"
   ]
  },
  {
   "cell_type": "code",
   "execution_count": 17,
   "metadata": {},
   "outputs": [
    {
     "name": "stdout",
     "output_type": "stream",
     "text": [
      "{}\n"
     ]
    }
   ],
   "source": [
    "print(cluster_mask_dict_reference)"
   ]
  },
  {
   "cell_type": "code",
   "execution_count": null,
   "metadata": {},
   "outputs": [],
   "source": [
    "# fit KMeans model to superpatch\n",
    "model_superpatch = KMeans_superpatch_fit(\n",
    "    patch_path = reference_patch,\n",
    "    hyperparameter_dict={'n_clusters': 4})\n",
    "# apply model to reference patch\n",
    "_, _, cluster_mask_dict_super = segment_TILs(super_patch, \n",
    "                                             out_dir_path, \n",
    "                                             hyperparameter_dict, \n",
    "                                             model=model_super,\n",
    "                                             algorithm='KMeans',\n",
    "                                             save_TILs_overlay=False,\n",
    "                                             save_cluster_masks=True,\n",
    "                                             save_all_clusters_img=False,\n",
    "                                             save_csv=False)\n",
    "\n",
    "# apply model to superpatch\n",
    "folderpath = '/Users/stanleycho/slides_folder/'"
   ]
  },
  {
   "cell_type": "code",
   "execution_count": null,
   "metadata": {},
   "outputs": [],
   "source": [
    "patches_list = [6, 8, 9, 10, 12, 15, 16, 18, 20]\n",
    "sp_width_list = [3, 4, 3, 5, 4, 5, 4, 6, 5]\n",
    "max_tile_x_list = [4000, 3000, 4000, 2400, 3000, 2400, 3000, 2000, 2400]\n",
    "max_tile_y_list = [3000, 2000, 2000, 3000, 2000, 2000, 1500, 2000, 1500]\n",
    "folderpath = '/Users/stanleycho/slides_folder/'\n",
    "for patches, sp_width, max_tile_x, max_tile_y in zip(patches_list, sp_width_list, max_tile_x_list, max_tile_y_list):\n",
    "    superpatch = preprocess(folderpath, patches, sp_width, max_tile_x, max_tile_y)"
   ]
  }
 ],
 "metadata": {
  "kernelspec": {
   "display_name": "Python 3 (ipykernel)",
   "language": "python",
   "name": "python3"
  },
  "language_info": {
   "codemirror_mode": {
    "name": "ipython",
    "version": 3
   },
   "file_extension": ".py",
   "mimetype": "text/x-python",
   "name": "python",
   "nbconvert_exporter": "python",
   "pygments_lexer": "ipython3",
   "version": "3.11.8"
  }
 },
 "nbformat": 4,
 "nbformat_minor": 2
}
