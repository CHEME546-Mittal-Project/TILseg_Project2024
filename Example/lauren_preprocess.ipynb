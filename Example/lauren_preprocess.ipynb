{
 "cells": [
  {
   "cell_type": "code",
   "execution_count": 1,
   "metadata": {},
   "outputs": [],
   "source": [
    "import sys\n",
    "sys.path.append('/Users/laurenfrank/TILseg_Project2024')"
   ]
  },
  {
   "cell_type": "markdown",
   "metadata": {},
   "source": [
    "### Run Preprocessing on One Image"
   ]
  },
  {
   "cell_type": "code",
   "execution_count": 10,
   "metadata": {},
   "outputs": [
    {
     "name": "stdout",
     "output_type": "stream",
     "text": [
      "3735 2570\n",
      "890 1697\n"
     ]
    }
   ],
   "source": [
    "from tilseg.preprocessing import open_slide, get_tile_size\n",
    "patch1 = \"/Users/laurenfrank/Mittal/cheme546/Example/test/TCGA-5L-AAT1-01Z-00-DX1/position_3_25tissue.tif\"\n",
    "patch2 = \"/Users/laurenfrank/Mittal/cheme546/Example/test/TCGA-AO-A128-01Z-00-DX1/position_3_3tissue.tif\"\n",
    "\n",
    "from PIL import Image\n",
    "slide1 = Image.open(patch1)\n",
    "image_width, image_height = slide1.size\n",
    "slide2 = Image.open(patch2)\n",
    "print(image_width,image_height)\n",
    "image_width2, image_height2 = slide2.size\n",
    "print(image_width2,image_height2)\n"
   ]
  },
  {
   "cell_type": "code",
   "execution_count": 5,
   "metadata": {},
   "outputs": [
    {
     "name": "stdout",
     "output_type": "stream",
     "text": [
      "/Users/laurenfrank/Mittal/cheme546/Example/test/TCGA-AO-A128-01Z-00-DX1.svs\n",
      "Percent of pixels lost in pre-processing for TCGA-AO-A128-01Z-00-DX1.svs:                       4.64858798073023e-06 %\n",
      "/Users/laurenfrank/Mittal/cheme546/Example/test/TCGA-5L-AAT1-01Z-00-DX1.svs\n",
      "Percent of pixels lost in pre-processing for TCGA-5L-AAT1-01Z-00-DX1.svs:                       1.2601710294039738e-06 %\n"
     ]
    },
    {
     "ename": "TypeError",
     "evalue": "patches list does not                                 contain correct datatypes",
     "output_type": "error",
     "traceback": [
      "\u001b[0;31m---------------------------------------------------------------------------\u001b[0m",
      "\u001b[0;31mValueError\u001b[0m                                Traceback (most recent call last)",
      "File \u001b[0;32m~/Mittal/cheme546/tilseg/preprocessing.py:1242\u001b[0m, in \u001b[0;36msuperpatcher\u001b[0;34m(patches_list, sp_width)\u001b[0m\n\u001b[1;32m   1241\u001b[0m \u001b[38;5;28;01mtry\u001b[39;00m:\n\u001b[0;32m-> 1242\u001b[0m     patch_array_0 \u001b[38;5;241m=\u001b[39m \u001b[43mnp\u001b[49m\u001b[38;5;241;43m.\u001b[39;49m\u001b[43mconcatenate\u001b[49m\u001b[43m(\u001b[49m\u001b[43m(\u001b[49m\u001b[43mpatch_array_0\u001b[49m\u001b[43m,\u001b[49m\u001b[43m \u001b[49m\u001b[43mpatch_array_i\u001b[49m\u001b[43m)\u001b[49m\u001b[43m,\u001b[49m\n\u001b[1;32m   1243\u001b[0m \u001b[43m                                   \u001b[49m\u001b[43maxis\u001b[49m\u001b[38;5;241;43m=\u001b[39;49m\u001b[38;5;241;43m1\u001b[39;49m\u001b[43m)\u001b[49m\n\u001b[1;32m   1244\u001b[0m \u001b[38;5;28;01mexcept\u001b[39;00m \u001b[38;5;167;01mException\u001b[39;00m \u001b[38;5;28;01mas\u001b[39;00m exc:\n",
      "\u001b[0;31mValueError\u001b[0m: all the input array dimensions except for the concatenation axis must match exactly, but along dimension 0, the array at index 0 has size 1697 and the array at index 1 has size 2570",
      "\nThe above exception was the direct cause of the following exception:\n",
      "\u001b[0;31mTypeError\u001b[0m                                 Traceback (most recent call last)",
      "Cell \u001b[0;32mIn[5], line 4\u001b[0m\n\u001b[1;32m      2\u001b[0m \u001b[38;5;66;03m# path = '/Users/laurenfrank/Mittal/cheme546/Example/images'\u001b[39;00m\n\u001b[1;32m      3\u001b[0m path \u001b[38;5;241m=\u001b[39m \u001b[38;5;124m'\u001b[39m\u001b[38;5;124m/Users/laurenfrank/Mittal/cheme546/Example/test\u001b[39m\u001b[38;5;124m'\u001b[39m\n\u001b[0;32m----> 4\u001b[0m superpatch \u001b[38;5;241m=\u001b[39m \u001b[43mpreprocess\u001b[49m\u001b[43m(\u001b[49m\u001b[43mpath\u001b[49m\u001b[43m,\u001b[49m\u001b[43m \u001b[49m\u001b[43mpatches\u001b[49m\u001b[38;5;241;43m=\u001b[39;49m\u001b[38;5;241;43m6\u001b[39;49m\u001b[43m,\u001b[49m\u001b[43m \u001b[49m\u001b[43mtraining\u001b[49m\u001b[38;5;241;43m=\u001b[39;49m\u001b[38;5;28;43;01mTrue\u001b[39;49;00m\u001b[43m,\u001b[49m\u001b[43m \u001b[49m\u001b[43msave_im\u001b[49m\u001b[38;5;241;43m=\u001b[39;49m\u001b[38;5;28;43;01mTrue\u001b[39;49;00m\u001b[43m)\u001b[49m\n",
      "File \u001b[0;32m~/Mittal/cheme546/tilseg/preprocessing.py:1297\u001b[0m, in \u001b[0;36mpreprocess\u001b[0;34m(path, patches, training, save_im, max_tile_x, max_tile_y)\u001b[0m\n\u001b[1;32m   1294\u001b[0m     dataframe \u001b[38;5;241m=\u001b[39m main_preprocessing(path, training, save_im,\n\u001b[1;32m   1295\u001b[0m                                    max_tile_x, max_tile_y)\n\u001b[1;32m   1296\u001b[0m     plist \u001b[38;5;241m=\u001b[39m get_superpatch_patches(dataframe, patches, path)\n\u001b[0;32m-> 1297\u001b[0m     spatch \u001b[38;5;241m=\u001b[39m \u001b[43msuperpatcher\u001b[49m\u001b[43m(\u001b[49m\u001b[43mplist\u001b[49m\u001b[43m)\u001b[49m\n\u001b[1;32m   1298\u001b[0m     save_image(path, \u001b[38;5;124m'\u001b[39m\u001b[38;5;124msuperpatch_training.tif\u001b[39m\u001b[38;5;124m'\u001b[39m, spatch)\n\u001b[1;32m   1300\u001b[0m \u001b[38;5;28;01melse\u001b[39;00m:\n\u001b[1;32m   1301\u001b[0m     \u001b[38;5;66;03m#TODO: this is never going to return anything? meant to equal to patch?\u001b[39;00m\n",
      "File \u001b[0;32m~/Mittal/cheme546/tilseg/preprocessing.py:1245\u001b[0m, in \u001b[0;36msuperpatcher\u001b[0;34m(patches_list, sp_width)\u001b[0m\n\u001b[1;32m   1242\u001b[0m     patch_array_0 \u001b[38;5;241m=\u001b[39m np\u001b[38;5;241m.\u001b[39mconcatenate((patch_array_0, patch_array_i),\n\u001b[1;32m   1243\u001b[0m                                    axis\u001b[38;5;241m=\u001b[39m\u001b[38;5;241m1\u001b[39m)\n\u001b[1;32m   1244\u001b[0m \u001b[38;5;28;01mexcept\u001b[39;00m \u001b[38;5;167;01mException\u001b[39;00m \u001b[38;5;28;01mas\u001b[39;00m exc:\n\u001b[0;32m-> 1245\u001b[0m     \u001b[38;5;28;01mraise\u001b[39;00m \u001b[38;5;167;01mTypeError\u001b[39;00m(\u001b[38;5;124m'\u001b[39m\u001b[38;5;124mpatches list does not \u001b[39m\u001b[38;5;130;01m\\\u001b[39;00m\n\u001b[1;32m   1246\u001b[0m \u001b[38;5;124m                    contain correct datatypes\u001b[39m\u001b[38;5;124m'\u001b[39m) \u001b[38;5;28;01mfrom\u001b[39;00m \u001b[38;5;21;01mexc\u001b[39;00m\n\u001b[1;32m   1248\u001b[0m \u001b[38;5;66;03m# save the finished row\u001b[39;00m\n\u001b[1;32m   1249\u001b[0m \u001b[38;5;28;01mif\u001b[39;00m i \u001b[38;5;241m==\u001b[39m (sp_width_calc\u001b[38;5;241m-\u001b[39m\u001b[38;5;241m1\u001b[39m):\n",
      "\u001b[0;31mTypeError\u001b[0m: patches list does not                                 contain correct datatypes"
     ]
    }
   ],
   "source": [
    "from tilseg.preprocessing import preprocess\n",
    "# path = '/Users/laurenfrank/Mittal/cheme546/Example/images'\n",
    "path = '/Users/laurenfrank/Mittal/cheme546/Example/test'\n",
    "superpatch = preprocess(path, patches=6, training=True, save_im=True)"
   ]
  },
  {
   "cell_type": "code",
   "execution_count": 3,
   "metadata": {},
   "outputs": [
    {
     "name": "stdout",
     "output_type": "stream",
     "text": [
      "{'n_clusters': 1}\n"
     ]
    }
   ],
   "source": [
    "from tilseg.model_selection import opt_kmeans\n",
    "import tilseg.model_selection\n",
    "import numpy as np\n",
    "from PIL import Image\n",
    "#Find Kmeans Parameters (num clusters)\n",
    "img = Image.open('/Users/laurenfrank/TILseg_Project2024/Example/images/superpatch_training.tif')\n",
    "numpy_img = np.array(img)\n",
    "numpy_img_reshape = np.float32(numpy_img.reshape((-1, 3))/255.)\n",
    "opt_cluster = opt_kmeans(numpy_img_reshape,[1,2])\n",
    "hyperparameter_dict = {'n_clusters': opt_cluster}\n",
    "    \n",
    "print(hyperparameter_dict)"
   ]
  },
  {
   "cell_type": "code",
   "execution_count": 2,
   "metadata": {},
   "outputs": [
    {
     "name": "stdout",
     "output_type": "stream",
     "text": [
      "Completed Kmeans fitting.\n"
     ]
    }
   ],
   "source": [
    "from tilseg.seg import kmean_dbscan_superpatch_wrapper\n",
    "\n",
    "TIL_count_dict, kmean_labels_dict = kmean_dbscan_superpatch_wrapper(superpatch_path = \"/Users/laurenfrank/TILseg_Project2024/Example/images_short/superpatch_training.tif\",\n",
    "                n_clusters = [3,4],\n",
    "                in_dir_path = '/Users/laurenfrank/TILseg_Project2024/Example/images_short/TCGA-5L-AAT1-01Z-00-DX1',\n",
    "                 out_dir_path = '/Users/laurenfrank/TILseg_Project2024/Example/images_short',\n",
    "                 save_TILs_overlay = True,\n",
    "                 save_cluster_masks = True,\n",
    "                 save_cluster_overlays = True,\n",
    "                 save_all_clusters_img = True,\n",
    "                 save_csv = True)"
   ]
  },
  {
   "cell_type": "code",
   "execution_count": 13,
   "metadata": {},
   "outputs": [
    {
     "name": "stdout",
     "output_type": "stream",
     "text": [
      "/Users/laurenfrank/TILseg_Project2024/Example/images_short\n"
     ]
    }
   ],
   "source": [
    "x = kmean_labels_dict['position_3_25tissue']\n",
    "import os\n",
    "in_dir_path = os.path.dirname(\"/Users/laurenfrank/TILseg_Project2024/Example/images_short/superpatch_training.tif\")\n",
    "print(in_dir_path)\n"
   ]
  },
  {
   "cell_type": "code",
   "execution_count": 2,
   "metadata": {},
   "outputs": [
    {
     "name": "stdout",
     "output_type": "stream",
     "text": [
      "Completed Kmeans fitting.\n"
     ]
    }
   ],
   "source": [
    "from tilseg.seg import kmean_dbscan_patch_wrapper\n",
    "TIL_count_dict, kmean_labels_dict = kmean_dbscan_patch_wrapper(patch_path = \"/Users/laurenfrank/TILseg_Project2024/Example/images_short/TCGA-5L-AAT1-01Z-00-DX1/position_3_25tissue.tif\",\n",
    "                n_clusters = [3,4],\n",
    "                 out_dir_path = '/Users/laurenfrank/TILseg_Project2024/Example/images_short',\n",
    "                 save_TILs_overlay = True,\n",
    "                 save_cluster_masks = True,\n",
    "                 save_cluster_overlays = True,\n",
    "                 save_all_clusters_img = True,\n",
    "                 save_csv = True)"
   ]
  }
 ],
 "metadata": {
  "kernelspec": {
   "display_name": "546proj_mac",
   "language": "python",
   "name": "python3"
  },
  "language_info": {
   "codemirror_mode": {
    "name": "ipython",
    "version": 3
   },
   "file_extension": ".py",
   "mimetype": "text/x-python",
   "name": "python",
   "nbconvert_exporter": "python",
   "pygments_lexer": "ipython3",
   "version": "3.11.0"
  }
 },
 "nbformat": 4,
 "nbformat_minor": 2
}
