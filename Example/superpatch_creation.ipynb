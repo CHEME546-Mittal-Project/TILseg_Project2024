{
 "cells": [
  {
   "cell_type": "markdown",
   "metadata": {},
   "source": [
    "## Superpatch Creation\n",
    "\n",
    "This part utilizes the preprocesses function in tilseg.preprocessing.py to generate a total of 12 superpatches with different dimensions and numbers of patches. The aim of this part is to prepare an investigation of whether the dimesions and numbers of patches in a superpatch affect the overall performance of the model. The superpatch sizes and the number of patches are designed to have the same overall pixel size as the default 6(width 3 height 2) patches while each patches is 4000*3000 pixels.\n",
    "\n",
    "#### Superpatch dimensions breakdown:\n",
    "**8:** 4x2 -> 3000x2000\\\n",
    "**9:** 3x3 -> 4000x2000\\\n",
    "**10:** 5x2 -> 2400x3000\\\n",
    "**12:** 4x3 -> 3000x2000\\\n",
    "**15:** 5x3 -> 2400x2000\\\n",
    "**16:** 4x4 -> 3000x1500\\\n",
    "**18:** 6x3 -> 2000x2000\\\n",
    "**20:** 5x4 -> 2400x1500\\\n",
    "**24:** 6x4 -> 2000x1500\\\n",
    "**30:** 6x5 -> 2000x1200\\\n",
    "**32:** 8x4 -> 1500x1500\\\n",
    "**36:** 6x6 -> 2000x1000\\\n",
    "**total superpatch size:** 12000x6000"
   ]
  },
  {
   "cell_type": "code",
   "execution_count": 1,
   "metadata": {},
   "outputs": [],
   "source": [
    "# append the tilseg package to system path\n",
    "import sys\n",
    "# Replace your own path!\n",
    "sys.path.append('/Users/hanson/Documents/UW/Courses/2 Winter 2024/CHEM E 546/Mittal-Project/TILseg_Project2024')\n",
    "from tilseg.preprocessing import preprocess"
   ]
  },
  {
   "cell_type": "code",
   "execution_count": 3,
   "metadata": {},
   "outputs": [],
   "source": [
    "paths = []\n",
    "f_names = ['/8_4t2','/9_3t3','/10_5t2','/12_4t3','/15_5t3','/16_4t4','/18_6t3','/20_5t4',\n",
    "           '/24_6t4','/30_6t5','/32_8t4','/36_6t6']\n",
    "m_path = \"/Users/hanson/Documents/UW/Courses/2 Winter 2024/CHEM E 546/Mittal-Project/sp_generation_1\"\n",
    "for i in range(12):\n",
    "    paths.append(m_path+f_names[i])"
   ]
  },
  {
   "cell_type": "code",
   "execution_count": 22,
   "metadata": {},
   "outputs": [
    {
     "name": "stderr",
     "output_type": "stream",
     "text": [
      "  0%|          | 0/12 [00:00<?, ?it/s]"
     ]
    },
    {
     "name": "stdout",
     "output_type": "stream",
     "text": [
      "/Users/hanson/Documents/UW/Courses/2 Winter 2024/CHEM E 546/Mittal-Project/sp_dimension_test/8_4t2/TCGA-AO-A128-01Z-00-DX1.svs\n",
      "Percent of pixels lost in pre-processing for TCGA-AO-A128-01Z-00-DX1.svs:                       0.39147153962123493 %\n"
     ]
    },
    {
     "name": "stderr",
     "output_type": "stream",
     "text": [
      "  8%|▊         | 1/12 [00:50<09:16, 50.59s/it]"
     ]
    },
    {
     "name": "stdout",
     "output_type": "stream",
     "text": [
      "/Users/hanson/Documents/UW/Courses/2 Winter 2024/CHEM E 546/Mittal-Project/sp_dimension_test/9_3t3/TCGA-AO-A128-01Z-00-DX1.svs\n",
      "Percent of pixels lost in pre-processing for TCGA-AO-A128-01Z-00-DX1.svs:                       0.253528705982685 %\n"
     ]
    },
    {
     "name": "stderr",
     "output_type": "stream",
     "text": [
      " 17%|█▋        | 2/12 [01:41<08:28, 50.81s/it]"
     ]
    },
    {
     "name": "stdout",
     "output_type": "stream",
     "text": [
      "/Users/hanson/Documents/UW/Courses/2 Winter 2024/CHEM E 546/Mittal-Project/sp_dimension_test/10_5t2/TCGA-AO-A128-01Z-00-DX1.svs\n",
      "Percent of pixels lost in pre-processing for TCGA-AO-A128-01Z-00-DX1.svs:                       0.07015684197093676 %\n"
     ]
    },
    {
     "name": "stderr",
     "output_type": "stream",
     "text": [
      " 25%|██▌       | 3/12 [02:38<08:01, 53.53s/it]"
     ]
    },
    {
     "name": "stdout",
     "output_type": "stream",
     "text": [
      "/Users/hanson/Documents/UW/Courses/2 Winter 2024/CHEM E 546/Mittal-Project/sp_dimension_test/12_4t3/TCGA-AO-A128-01Z-00-DX1.svs\n",
      "Percent of pixels lost in pre-processing for TCGA-AO-A128-01Z-00-DX1.svs:                       0.39147153962123493 %\n"
     ]
    },
    {
     "name": "stderr",
     "output_type": "stream",
     "text": [
      " 33%|███▎      | 4/12 [03:29<07:00, 52.61s/it]"
     ]
    },
    {
     "name": "stdout",
     "output_type": "stream",
     "text": [
      "/Users/hanson/Documents/UW/Courses/2 Winter 2024/CHEM E 546/Mittal-Project/sp_dimension_test/15_5t3/TCGA-AO-A128-01Z-00-DX1.svs\n",
      "Percent of pixels lost in pre-processing for TCGA-AO-A128-01Z-00-DX1.svs:                       0.14416130612689368 %\n"
     ]
    },
    {
     "name": "stderr",
     "output_type": "stream",
     "text": [
      " 42%|████▏     | 5/12 [04:18<05:58, 51.26s/it]"
     ]
    },
    {
     "name": "stdout",
     "output_type": "stream",
     "text": [
      "/Users/hanson/Documents/UW/Courses/2 Winter 2024/CHEM E 546/Mittal-Project/sp_dimension_test/16_4t4/TCGA-AO-A128-01Z-00-DX1.svs\n",
      "Percent of pixels lost in pre-processing for TCGA-AO-A128-01Z-00-DX1.svs:                       0.19141645681185562 %\n"
     ]
    },
    {
     "name": "stderr",
     "output_type": "stream",
     "text": [
      " 50%|█████     | 6/12 [05:11<05:10, 51.77s/it]"
     ]
    },
    {
     "name": "stdout",
     "output_type": "stream",
     "text": [
      "/Users/hanson/Documents/UW/Courses/2 Winter 2024/CHEM E 546/Mittal-Project/sp_dimension_test/18_6t3/TCGA-AO-A128-01Z-00-DX1.svs\n",
      "Percent of pixels lost in pre-processing for TCGA-AO-A128-01Z-00-DX1.svs:                       0.2548183369815816 %\n"
     ]
    },
    {
     "name": "stderr",
     "output_type": "stream",
     "text": [
      " 58%|█████▊    | 7/12 [05:59<04:13, 50.66s/it]"
     ]
    },
    {
     "name": "stdout",
     "output_type": "stream",
     "text": [
      "/Users/hanson/Documents/UW/Courses/2 Winter 2024/CHEM E 546/Mittal-Project/sp_dimension_test/20_5t4/TCGA-AO-A128-01Z-00-DX1.svs\n",
      "Percent of pixels lost in pre-processing for TCGA-AO-A128-01Z-00-DX1.svs:                       0.07088589551924795 %\n"
     ]
    },
    {
     "name": "stderr",
     "output_type": "stream",
     "text": [
      " 67%|██████▋   | 8/12 [06:49<03:22, 50.54s/it]"
     ]
    },
    {
     "name": "stdout",
     "output_type": "stream",
     "text": [
      "/Users/hanson/Documents/UW/Courses/2 Winter 2024/CHEM E 546/Mittal-Project/sp_dimension_test/24_6t4/TCGA-AO-A128-01Z-00-DX1.svs\n",
      "Percent of pixels lost in pre-processing for TCGA-AO-A128-01Z-00-DX1.svs:                       0.1251964053953876 %\n"
     ]
    },
    {
     "name": "stderr",
     "output_type": "stream",
     "text": [
      " 75%|███████▌  | 9/12 [07:38<02:29, 49.97s/it]"
     ]
    },
    {
     "name": "stdout",
     "output_type": "stream",
     "text": [
      "/Users/hanson/Documents/UW/Courses/2 Winter 2024/CHEM E 546/Mittal-Project/sp_dimension_test/30_6t5/TCGA-AO-A128-01Z-00-DX1.svs\n",
      "Percent of pixels lost in pre-processing for TCGA-AO-A128-01Z-00-DX1.svs:                       0.0470751939835867 %\n"
     ]
    },
    {
     "name": "stderr",
     "output_type": "stream",
     "text": [
      " 83%|████████▎ | 10/12 [08:27<01:39, 49.77s/it]"
     ]
    },
    {
     "name": "stdout",
     "output_type": "stream",
     "text": [
      "/Users/hanson/Documents/UW/Courses/2 Winter 2024/CHEM E 546/Mittal-Project/sp_dimension_test/32_8t4/TCGA-AO-A128-01Z-00-DX1.svs\n",
      "Percent of pixels lost in pre-processing for TCGA-AO-A128-01Z-00-DX1.svs:                       0.09204471847820504 %\n"
     ]
    },
    {
     "name": "stderr",
     "output_type": "stream",
     "text": [
      " 92%|█████████▏| 11/12 [09:17<00:49, 49.65s/it]"
     ]
    },
    {
     "name": "stdout",
     "output_type": "stream",
     "text": [
      "/Users/hanson/Documents/UW/Courses/2 Winter 2024/CHEM E 546/Mittal-Project/sp_dimension_test/36_6t6/TCGA-AO-A128-01Z-00-DX1.svs\n",
      "Percent of pixels lost in pre-processing for TCGA-AO-A128-01Z-00-DX1.svs:                       0.12592545894369878 %\n"
     ]
    },
    {
     "name": "stderr",
     "output_type": "stream",
     "text": [
      "100%|██████████| 12/12 [10:04<00:00, 50.41s/it]\n"
     ]
    }
   ],
   "source": [
    "# use the tqdm module to visualize the loading of superpatches\n",
    "from tqdm import trange\n",
    "superpatches = []\n",
    "patches_n = [8,9,10,12,15,16,18,20,24,30,32,36]\n",
    "sp_widths = [4,3,5,4,5,4,6,5,6,6,8,6]\n",
    "p_dim = [[3000,2000],[4000,2000],[2400,3000],[3000,2000],[2400,2000],[3000,1500],\n",
    "         [2000,2000],[2400,1500],[2000,1500],[2000,1200],[1500,1500],[2000,1000]]\n",
    "for i in trange(12):\n",
    "    superpatches.append(preprocess(path=paths[i],patches=patches_n[i],sp_width=sp_widths[i],\n",
    "                                   max_tile_x=p_dim[i][0],max_tile_y=p_dim[i][1],save_im=False))"
   ]
  },
  {
   "cell_type": "markdown",
   "metadata": {},
   "source": [
    "### Check that the superpatches do work with tilseg.model_selection and tilseg_seg"
   ]
  },
  {
   "cell_type": "code",
   "execution_count": 31,
   "metadata": {},
   "outputs": [],
   "source": [
    "import numpy as np\n",
    "import tilseg.model_selection\n",
    "patch_array = superpatches[0].reshape((-1,3))/255.\n",
    "patch_array_sample = tilseg.model_selection.sample_patch(patch_array, 5_000)\n",
    "kmeans_hyperparameters_dict = {\"n_clusters\":[1,2,3,4,5,6,7,8,9,10]}\n",
    "kmeans_hyper_combs = tilseg.model_selection.generate_hyperparameter_combinations(kmeans_hyperparameters_dict)\n",
    "opt_kmeans_hyper = tilseg.model_selection.opt_kmeans(patch_array,\n",
    "                                                     n_clusters=kmeans_hyper_combs[\"n_clusters\"])"
   ]
  },
  {
   "cell_type": "code",
   "execution_count": 6,
   "metadata": {},
   "outputs": [
    {
     "name": "stdout",
     "output_type": "stream",
     "text": [
      "Time to train this model is 5 seconds\n"
     ]
    }
   ],
   "source": [
    "import time\n",
    "from tilseg import seg\n",
    "reference_path = '/Users/hanson/Documents/UW/Courses/2 Winter 2024/CHEM E 546/Mittal-Project/position_6_20tissue.tif'\n",
    "initial_time = time.time()\n",
    "\n",
    "model_reference = seg.KMeans_superpatch_fit(\n",
    "    patch_path=reference_path,\n",
    "    hyperparameter_dict={'n_clusters': 4})\n",
    "\n",
    "final_time = time.time()\n",
    "\n",
    "print(f'Time to train this model is {round(final_time-initial_time)} seconds')"
   ]
  },
  {
   "cell_type": "code",
   "execution_count": 7,
   "metadata": {},
   "outputs": [
    {
     "data": {
      "text/html": [
       "<style>#sk-container-id-1 {\n",
       "  /* Definition of color scheme common for light and dark mode */\n",
       "  --sklearn-color-text: black;\n",
       "  --sklearn-color-line: gray;\n",
       "  /* Definition of color scheme for unfitted estimators */\n",
       "  --sklearn-color-unfitted-level-0: #fff5e6;\n",
       "  --sklearn-color-unfitted-level-1: #f6e4d2;\n",
       "  --sklearn-color-unfitted-level-2: #ffe0b3;\n",
       "  --sklearn-color-unfitted-level-3: chocolate;\n",
       "  /* Definition of color scheme for fitted estimators */\n",
       "  --sklearn-color-fitted-level-0: #f0f8ff;\n",
       "  --sklearn-color-fitted-level-1: #d4ebff;\n",
       "  --sklearn-color-fitted-level-2: #b3dbfd;\n",
       "  --sklearn-color-fitted-level-3: cornflowerblue;\n",
       "\n",
       "  /* Specific color for light theme */\n",
       "  --sklearn-color-text-on-default-background: var(--sg-text-color, var(--theme-code-foreground, var(--jp-content-font-color1, black)));\n",
       "  --sklearn-color-background: var(--sg-background-color, var(--theme-background, var(--jp-layout-color0, white)));\n",
       "  --sklearn-color-border-box: var(--sg-text-color, var(--theme-code-foreground, var(--jp-content-font-color1, black)));\n",
       "  --sklearn-color-icon: #696969;\n",
       "\n",
       "  @media (prefers-color-scheme: dark) {\n",
       "    /* Redefinition of color scheme for dark theme */\n",
       "    --sklearn-color-text-on-default-background: var(--sg-text-color, var(--theme-code-foreground, var(--jp-content-font-color1, white)));\n",
       "    --sklearn-color-background: var(--sg-background-color, var(--theme-background, var(--jp-layout-color0, #111)));\n",
       "    --sklearn-color-border-box: var(--sg-text-color, var(--theme-code-foreground, var(--jp-content-font-color1, white)));\n",
       "    --sklearn-color-icon: #878787;\n",
       "  }\n",
       "}\n",
       "\n",
       "#sk-container-id-1 {\n",
       "  color: var(--sklearn-color-text);\n",
       "}\n",
       "\n",
       "#sk-container-id-1 pre {\n",
       "  padding: 0;\n",
       "}\n",
       "\n",
       "#sk-container-id-1 input.sk-hidden--visually {\n",
       "  border: 0;\n",
       "  clip: rect(1px 1px 1px 1px);\n",
       "  clip: rect(1px, 1px, 1px, 1px);\n",
       "  height: 1px;\n",
       "  margin: -1px;\n",
       "  overflow: hidden;\n",
       "  padding: 0;\n",
       "  position: absolute;\n",
       "  width: 1px;\n",
       "}\n",
       "\n",
       "#sk-container-id-1 div.sk-dashed-wrapped {\n",
       "  border: 1px dashed var(--sklearn-color-line);\n",
       "  margin: 0 0.4em 0.5em 0.4em;\n",
       "  box-sizing: border-box;\n",
       "  padding-bottom: 0.4em;\n",
       "  background-color: var(--sklearn-color-background);\n",
       "}\n",
       "\n",
       "#sk-container-id-1 div.sk-container {\n",
       "  /* jupyter's `normalize.less` sets `[hidden] { display: none; }`\n",
       "     but bootstrap.min.css set `[hidden] { display: none !important; }`\n",
       "     so we also need the `!important` here to be able to override the\n",
       "     default hidden behavior on the sphinx rendered scikit-learn.org.\n",
       "     See: https://github.com/scikit-learn/scikit-learn/issues/21755 */\n",
       "  display: inline-block !important;\n",
       "  position: relative;\n",
       "}\n",
       "\n",
       "#sk-container-id-1 div.sk-text-repr-fallback {\n",
       "  display: none;\n",
       "}\n",
       "\n",
       "div.sk-parallel-item,\n",
       "div.sk-serial,\n",
       "div.sk-item {\n",
       "  /* draw centered vertical line to link estimators */\n",
       "  background-image: linear-gradient(var(--sklearn-color-text-on-default-background), var(--sklearn-color-text-on-default-background));\n",
       "  background-size: 2px 100%;\n",
       "  background-repeat: no-repeat;\n",
       "  background-position: center center;\n",
       "}\n",
       "\n",
       "/* Parallel-specific style estimator block */\n",
       "\n",
       "#sk-container-id-1 div.sk-parallel-item::after {\n",
       "  content: \"\";\n",
       "  width: 100%;\n",
       "  border-bottom: 2px solid var(--sklearn-color-text-on-default-background);\n",
       "  flex-grow: 1;\n",
       "}\n",
       "\n",
       "#sk-container-id-1 div.sk-parallel {\n",
       "  display: flex;\n",
       "  align-items: stretch;\n",
       "  justify-content: center;\n",
       "  background-color: var(--sklearn-color-background);\n",
       "  position: relative;\n",
       "}\n",
       "\n",
       "#sk-container-id-1 div.sk-parallel-item {\n",
       "  display: flex;\n",
       "  flex-direction: column;\n",
       "}\n",
       "\n",
       "#sk-container-id-1 div.sk-parallel-item:first-child::after {\n",
       "  align-self: flex-end;\n",
       "  width: 50%;\n",
       "}\n",
       "\n",
       "#sk-container-id-1 div.sk-parallel-item:last-child::after {\n",
       "  align-self: flex-start;\n",
       "  width: 50%;\n",
       "}\n",
       "\n",
       "#sk-container-id-1 div.sk-parallel-item:only-child::after {\n",
       "  width: 0;\n",
       "}\n",
       "\n",
       "/* Serial-specific style estimator block */\n",
       "\n",
       "#sk-container-id-1 div.sk-serial {\n",
       "  display: flex;\n",
       "  flex-direction: column;\n",
       "  align-items: center;\n",
       "  background-color: var(--sklearn-color-background);\n",
       "  padding-right: 1em;\n",
       "  padding-left: 1em;\n",
       "}\n",
       "\n",
       "\n",
       "/* Toggleable style: style used for estimator/Pipeline/ColumnTransformer box that is\n",
       "clickable and can be expanded/collapsed.\n",
       "- Pipeline and ColumnTransformer use this feature and define the default style\n",
       "- Estimators will overwrite some part of the style using the `sk-estimator` class\n",
       "*/\n",
       "\n",
       "/* Pipeline and ColumnTransformer style (default) */\n",
       "\n",
       "#sk-container-id-1 div.sk-toggleable {\n",
       "  /* Default theme specific background. It is overwritten whether we have a\n",
       "  specific estimator or a Pipeline/ColumnTransformer */\n",
       "  background-color: var(--sklearn-color-background);\n",
       "}\n",
       "\n",
       "/* Toggleable label */\n",
       "#sk-container-id-1 label.sk-toggleable__label {\n",
       "  cursor: pointer;\n",
       "  display: block;\n",
       "  width: 100%;\n",
       "  margin-bottom: 0;\n",
       "  padding: 0.5em;\n",
       "  box-sizing: border-box;\n",
       "  text-align: center;\n",
       "}\n",
       "\n",
       "#sk-container-id-1 label.sk-toggleable__label-arrow:before {\n",
       "  /* Arrow on the left of the label */\n",
       "  content: \"▸\";\n",
       "  float: left;\n",
       "  margin-right: 0.25em;\n",
       "  color: var(--sklearn-color-icon);\n",
       "}\n",
       "\n",
       "#sk-container-id-1 label.sk-toggleable__label-arrow:hover:before {\n",
       "  color: var(--sklearn-color-text);\n",
       "}\n",
       "\n",
       "/* Toggleable content - dropdown */\n",
       "\n",
       "#sk-container-id-1 div.sk-toggleable__content {\n",
       "  max-height: 0;\n",
       "  max-width: 0;\n",
       "  overflow: hidden;\n",
       "  text-align: left;\n",
       "  /* unfitted */\n",
       "  background-color: var(--sklearn-color-unfitted-level-0);\n",
       "}\n",
       "\n",
       "#sk-container-id-1 div.sk-toggleable__content.fitted {\n",
       "  /* fitted */\n",
       "  background-color: var(--sklearn-color-fitted-level-0);\n",
       "}\n",
       "\n",
       "#sk-container-id-1 div.sk-toggleable__content pre {\n",
       "  margin: 0.2em;\n",
       "  border-radius: 0.25em;\n",
       "  color: var(--sklearn-color-text);\n",
       "  /* unfitted */\n",
       "  background-color: var(--sklearn-color-unfitted-level-0);\n",
       "}\n",
       "\n",
       "#sk-container-id-1 div.sk-toggleable__content.fitted pre {\n",
       "  /* unfitted */\n",
       "  background-color: var(--sklearn-color-fitted-level-0);\n",
       "}\n",
       "\n",
       "#sk-container-id-1 input.sk-toggleable__control:checked~div.sk-toggleable__content {\n",
       "  /* Expand drop-down */\n",
       "  max-height: 200px;\n",
       "  max-width: 100%;\n",
       "  overflow: auto;\n",
       "}\n",
       "\n",
       "#sk-container-id-1 input.sk-toggleable__control:checked~label.sk-toggleable__label-arrow:before {\n",
       "  content: \"▾\";\n",
       "}\n",
       "\n",
       "/* Pipeline/ColumnTransformer-specific style */\n",
       "\n",
       "#sk-container-id-1 div.sk-label input.sk-toggleable__control:checked~label.sk-toggleable__label {\n",
       "  color: var(--sklearn-color-text);\n",
       "  background-color: var(--sklearn-color-unfitted-level-2);\n",
       "}\n",
       "\n",
       "#sk-container-id-1 div.sk-label.fitted input.sk-toggleable__control:checked~label.sk-toggleable__label {\n",
       "  background-color: var(--sklearn-color-fitted-level-2);\n",
       "}\n",
       "\n",
       "/* Estimator-specific style */\n",
       "\n",
       "/* Colorize estimator box */\n",
       "#sk-container-id-1 div.sk-estimator input.sk-toggleable__control:checked~label.sk-toggleable__label {\n",
       "  /* unfitted */\n",
       "  background-color: var(--sklearn-color-unfitted-level-2);\n",
       "}\n",
       "\n",
       "#sk-container-id-1 div.sk-estimator.fitted input.sk-toggleable__control:checked~label.sk-toggleable__label {\n",
       "  /* fitted */\n",
       "  background-color: var(--sklearn-color-fitted-level-2);\n",
       "}\n",
       "\n",
       "#sk-container-id-1 div.sk-label label.sk-toggleable__label,\n",
       "#sk-container-id-1 div.sk-label label {\n",
       "  /* The background is the default theme color */\n",
       "  color: var(--sklearn-color-text-on-default-background);\n",
       "}\n",
       "\n",
       "/* On hover, darken the color of the background */\n",
       "#sk-container-id-1 div.sk-label:hover label.sk-toggleable__label {\n",
       "  color: var(--sklearn-color-text);\n",
       "  background-color: var(--sklearn-color-unfitted-level-2);\n",
       "}\n",
       "\n",
       "/* Label box, darken color on hover, fitted */\n",
       "#sk-container-id-1 div.sk-label.fitted:hover label.sk-toggleable__label.fitted {\n",
       "  color: var(--sklearn-color-text);\n",
       "  background-color: var(--sklearn-color-fitted-level-2);\n",
       "}\n",
       "\n",
       "/* Estimator label */\n",
       "\n",
       "#sk-container-id-1 div.sk-label label {\n",
       "  font-family: monospace;\n",
       "  font-weight: bold;\n",
       "  display: inline-block;\n",
       "  line-height: 1.2em;\n",
       "}\n",
       "\n",
       "#sk-container-id-1 div.sk-label-container {\n",
       "  text-align: center;\n",
       "}\n",
       "\n",
       "/* Estimator-specific */\n",
       "#sk-container-id-1 div.sk-estimator {\n",
       "  font-family: monospace;\n",
       "  border: 1px dotted var(--sklearn-color-border-box);\n",
       "  border-radius: 0.25em;\n",
       "  box-sizing: border-box;\n",
       "  margin-bottom: 0.5em;\n",
       "  /* unfitted */\n",
       "  background-color: var(--sklearn-color-unfitted-level-0);\n",
       "}\n",
       "\n",
       "#sk-container-id-1 div.sk-estimator.fitted {\n",
       "  /* fitted */\n",
       "  background-color: var(--sklearn-color-fitted-level-0);\n",
       "}\n",
       "\n",
       "/* on hover */\n",
       "#sk-container-id-1 div.sk-estimator:hover {\n",
       "  /* unfitted */\n",
       "  background-color: var(--sklearn-color-unfitted-level-2);\n",
       "}\n",
       "\n",
       "#sk-container-id-1 div.sk-estimator.fitted:hover {\n",
       "  /* fitted */\n",
       "  background-color: var(--sklearn-color-fitted-level-2);\n",
       "}\n",
       "\n",
       "/* Specification for estimator info (e.g. \"i\" and \"?\") */\n",
       "\n",
       "/* Common style for \"i\" and \"?\" */\n",
       "\n",
       ".sk-estimator-doc-link,\n",
       "a:link.sk-estimator-doc-link,\n",
       "a:visited.sk-estimator-doc-link {\n",
       "  float: right;\n",
       "  font-size: smaller;\n",
       "  line-height: 1em;\n",
       "  font-family: monospace;\n",
       "  background-color: var(--sklearn-color-background);\n",
       "  border-radius: 1em;\n",
       "  height: 1em;\n",
       "  width: 1em;\n",
       "  text-decoration: none !important;\n",
       "  margin-left: 1ex;\n",
       "  /* unfitted */\n",
       "  border: var(--sklearn-color-unfitted-level-1) 1pt solid;\n",
       "  color: var(--sklearn-color-unfitted-level-1);\n",
       "}\n",
       "\n",
       ".sk-estimator-doc-link.fitted,\n",
       "a:link.sk-estimator-doc-link.fitted,\n",
       "a:visited.sk-estimator-doc-link.fitted {\n",
       "  /* fitted */\n",
       "  border: var(--sklearn-color-fitted-level-1) 1pt solid;\n",
       "  color: var(--sklearn-color-fitted-level-1);\n",
       "}\n",
       "\n",
       "/* On hover */\n",
       "div.sk-estimator:hover .sk-estimator-doc-link:hover,\n",
       ".sk-estimator-doc-link:hover,\n",
       "div.sk-label-container:hover .sk-estimator-doc-link:hover,\n",
       ".sk-estimator-doc-link:hover {\n",
       "  /* unfitted */\n",
       "  background-color: var(--sklearn-color-unfitted-level-3);\n",
       "  color: var(--sklearn-color-background);\n",
       "  text-decoration: none;\n",
       "}\n",
       "\n",
       "div.sk-estimator.fitted:hover .sk-estimator-doc-link.fitted:hover,\n",
       ".sk-estimator-doc-link.fitted:hover,\n",
       "div.sk-label-container:hover .sk-estimator-doc-link.fitted:hover,\n",
       ".sk-estimator-doc-link.fitted:hover {\n",
       "  /* fitted */\n",
       "  background-color: var(--sklearn-color-fitted-level-3);\n",
       "  color: var(--sklearn-color-background);\n",
       "  text-decoration: none;\n",
       "}\n",
       "\n",
       "/* Span, style for the box shown on hovering the info icon */\n",
       ".sk-estimator-doc-link span {\n",
       "  display: none;\n",
       "  z-index: 9999;\n",
       "  position: relative;\n",
       "  font-weight: normal;\n",
       "  right: .2ex;\n",
       "  padding: .5ex;\n",
       "  margin: .5ex;\n",
       "  width: min-content;\n",
       "  min-width: 20ex;\n",
       "  max-width: 50ex;\n",
       "  color: var(--sklearn-color-text);\n",
       "  box-shadow: 2pt 2pt 4pt #999;\n",
       "  /* unfitted */\n",
       "  background: var(--sklearn-color-unfitted-level-0);\n",
       "  border: .5pt solid var(--sklearn-color-unfitted-level-3);\n",
       "}\n",
       "\n",
       ".sk-estimator-doc-link.fitted span {\n",
       "  /* fitted */\n",
       "  background: var(--sklearn-color-fitted-level-0);\n",
       "  border: var(--sklearn-color-fitted-level-3);\n",
       "}\n",
       "\n",
       ".sk-estimator-doc-link:hover span {\n",
       "  display: block;\n",
       "}\n",
       "\n",
       "/* \"?\"-specific style due to the `<a>` HTML tag */\n",
       "\n",
       "#sk-container-id-1 a.estimator_doc_link {\n",
       "  float: right;\n",
       "  font-size: 1rem;\n",
       "  line-height: 1em;\n",
       "  font-family: monospace;\n",
       "  background-color: var(--sklearn-color-background);\n",
       "  border-radius: 1rem;\n",
       "  height: 1rem;\n",
       "  width: 1rem;\n",
       "  text-decoration: none;\n",
       "  /* unfitted */\n",
       "  color: var(--sklearn-color-unfitted-level-1);\n",
       "  border: var(--sklearn-color-unfitted-level-1) 1pt solid;\n",
       "}\n",
       "\n",
       "#sk-container-id-1 a.estimator_doc_link.fitted {\n",
       "  /* fitted */\n",
       "  border: var(--sklearn-color-fitted-level-1) 1pt solid;\n",
       "  color: var(--sklearn-color-fitted-level-1);\n",
       "}\n",
       "\n",
       "/* On hover */\n",
       "#sk-container-id-1 a.estimator_doc_link:hover {\n",
       "  /* unfitted */\n",
       "  background-color: var(--sklearn-color-unfitted-level-3);\n",
       "  color: var(--sklearn-color-background);\n",
       "  text-decoration: none;\n",
       "}\n",
       "\n",
       "#sk-container-id-1 a.estimator_doc_link.fitted:hover {\n",
       "  /* fitted */\n",
       "  background-color: var(--sklearn-color-fitted-level-3);\n",
       "}\n",
       "</style><div id=\"sk-container-id-1\" class=\"sk-top-container\"><div class=\"sk-text-repr-fallback\"><pre>KMeans(max_iter=20, n_clusters=4, n_init=3, tol=0.001)</pre><b>In a Jupyter environment, please rerun this cell to show the HTML representation or trust the notebook. <br />On GitHub, the HTML representation is unable to render, please try loading this page with nbviewer.org.</b></div><div class=\"sk-container\" hidden><div class=\"sk-item\"><div class=\"sk-estimator fitted sk-toggleable\"><input class=\"sk-toggleable__control sk-hidden--visually\" id=\"sk-estimator-id-1\" type=\"checkbox\" checked><label for=\"sk-estimator-id-1\" class=\"sk-toggleable__label fitted sk-toggleable__label-arrow fitted\">&nbsp;&nbsp;KMeans<a class=\"sk-estimator-doc-link fitted\" rel=\"noreferrer\" target=\"_blank\" href=\"https://scikit-learn.org/1.4/modules/generated/sklearn.cluster.KMeans.html\">?<span>Documentation for KMeans</span></a><span class=\"sk-estimator-doc-link fitted\">i<span>Fitted</span></span></label><div class=\"sk-toggleable__content fitted\"><pre>KMeans(max_iter=20, n_clusters=4, n_init=3, tol=0.001)</pre></div> </div></div></div></div>"
      ],
      "text/plain": [
       "KMeans(max_iter=20, n_clusters=4, n_init=3, tol=0.001)"
      ]
     },
     "execution_count": 7,
     "metadata": {},
     "output_type": "execute_result"
    }
   ],
   "source": [
    "model_reference"
   ]
  },
  {
   "cell_type": "markdown",
   "metadata": {},
   "source": [
    "## Superpatch 2 Creation\n",
    "\n",
    "This part creates the second batch of superpatches based on a selected image <span style=\"color:red\">**TCGA-A2-A0CW-01Z-00-DX1.svs**</span>. The scope of different patches was shrink on purpose to save generation time. In addition, the default 6 patches breakdown was also added. All superpatch sizes and the number of patches are designed to have the same overall pixel size as the default 6(width 3 height 2) patches while each patches is 4000*3000 pixels.\n",
    "\n",
    "#### Superpatch batch 2 dimensions breakdown:\n",
    "**6:** 3x2 -> 4000x3000\\\n",
    "**8:** 4x2 -> 3000x2000\\\n",
    "**9:** 3x3 -> 4000x2000\\\n",
    "**10:** 5x2 -> 2400x3000\\\n",
    "**12:** 4x3 -> 3000x2000\\\n",
    "**15:** 5x3 -> 2400x2000\\\n",
    "**16:** 4x4 -> 3000x1500\\\n",
    "**18:** 6x3 -> 2000x2000\\\n",
    "**20:** 5x4 -> 2400x1500\\\n",
    "**total superpatch size:** 12000x6000"
   ]
  },
  {
   "cell_type": "code",
   "execution_count": 10,
   "metadata": {},
   "outputs": [],
   "source": [
    "paths = []\n",
    "f_names = ['6_3t2','/8_4t2','/9_3t3','/10_5t2','/12_4t3','/15_5t3','/16_4t4','/18_6t3','/20_5t4']\n",
    "m_path = \"/Users/hanson/Documents/UW/Courses/2 Winter 2024/CHEM E 546/Mittal-Project/sp_generation_2/\"\n",
    "for i in range(9):\n",
    "    paths.append(m_path+f_names[i])"
   ]
  },
  {
   "cell_type": "code",
   "execution_count": 11,
   "metadata": {},
   "outputs": [
    {
     "name": "stderr",
     "output_type": "stream",
     "text": [
      "  0%|          | 0/9 [00:00<?, ?it/s]"
     ]
    },
    {
     "name": "stdout",
     "output_type": "stream",
     "text": [
      "/Users/hanson/Documents/UW/Courses/2 Winter 2024/CHEM E 546/Mittal-Project/sp_generation_2/6_3t2/TCGA-A2-A0CW-01Z-00-DX1.svs\n",
      "Percent of pixels lost in pre-processing for TCGA-A2-A0CW-01Z-00-DX1.svs:                       0.11044591053012531 %\n"
     ]
    },
    {
     "name": "stderr",
     "output_type": "stream",
     "text": [
      " 11%|█         | 1/9 [03:00<24:05, 180.72s/it]"
     ]
    },
    {
     "name": "stdout",
     "output_type": "stream",
     "text": [
      "/Users/hanson/Documents/UW/Courses/2 Winter 2024/CHEM E 546/Mittal-Project/sp_generation_2//8_4t2/TCGA-A2-A0CW-01Z-00-DX1.svs\n",
      "Percent of pixels lost in pre-processing for TCGA-A2-A0CW-01Z-00-DX1.svs:                       0.025249985592419318 %\n"
     ]
    },
    {
     "name": "stderr",
     "output_type": "stream",
     "text": [
      " 22%|██▏       | 2/9 [06:05<21:23, 183.39s/it]"
     ]
    },
    {
     "name": "stdout",
     "output_type": "stream",
     "text": [
      "/Users/hanson/Documents/UW/Courses/2 Winter 2024/CHEM E 546/Mittal-Project/sp_generation_2//9_3t3/TCGA-A2-A0CW-01Z-00-DX1.svs\n",
      "Percent of pixels lost in pre-processing for TCGA-A2-A0CW-01Z-00-DX1.svs:                       0.11075620374320126 %\n"
     ]
    },
    {
     "name": "stderr",
     "output_type": "stream",
     "text": [
      " 33%|███▎      | 3/9 [09:03<18:04, 180.77s/it]"
     ]
    },
    {
     "name": "stdout",
     "output_type": "stream",
     "text": [
      "/Users/hanson/Documents/UW/Courses/2 Winter 2024/CHEM E 546/Mittal-Project/sp_generation_2//10_5t2/TCGA-A2-A0CW-01Z-00-DX1.svs\n",
      "Percent of pixels lost in pre-processing for TCGA-A2-A0CW-01Z-00-DX1.svs:                       0.04231622960254854 %\n"
     ]
    },
    {
     "name": "stderr",
     "output_type": "stream",
     "text": [
      " 44%|████▍     | 4/9 [11:53<14:42, 176.52s/it]"
     ]
    },
    {
     "name": "stdout",
     "output_type": "stream",
     "text": [
      "/Users/hanson/Documents/UW/Courses/2 Winter 2024/CHEM E 546/Mittal-Project/sp_generation_2//12_4t3/TCGA-A2-A0CW-01Z-00-DX1.svs\n",
      "Percent of pixels lost in pre-processing for TCGA-A2-A0CW-01Z-00-DX1.svs:                       0.025249985592419318 %\n"
     ]
    },
    {
     "name": "stderr",
     "output_type": "stream",
     "text": [
      " 56%|█████▌    | 5/9 [14:59<12:00, 180.07s/it]"
     ]
    },
    {
     "name": "stdout",
     "output_type": "stream",
     "text": [
      "/Users/hanson/Documents/UW/Courses/2 Winter 2024/CHEM E 546/Mittal-Project/sp_generation_2//15_5t3/TCGA-A2-A0CW-01Z-00-DX1.svs\n",
      "Percent of pixels lost in pre-processing for TCGA-A2-A0CW-01Z-00-DX1.svs:                       0.0426265228156245 %\n"
     ]
    },
    {
     "name": "stderr",
     "output_type": "stream",
     "text": [
      " 67%|██████▋   | 6/9 [17:49<08:49, 176.42s/it]"
     ]
    },
    {
     "name": "stdout",
     "output_type": "stream",
     "text": [
      "/Users/hanson/Documents/UW/Courses/2 Winter 2024/CHEM E 546/Mittal-Project/sp_generation_2//16_4t4/TCGA-A2-A0CW-01Z-00-DX1.svs\n",
      "Percent of pixels lost in pre-processing for TCGA-A2-A0CW-01Z-00-DX1.svs:                       0.02556027880549527 %\n"
     ]
    },
    {
     "name": "stderr",
     "output_type": "stream",
     "text": [
      " 78%|███████▊  | 7/9 [20:57<06:00, 180.40s/it]"
     ]
    },
    {
     "name": "stdout",
     "output_type": "stream",
     "text": [
      "/Users/hanson/Documents/UW/Courses/2 Winter 2024/CHEM E 546/Mittal-Project/sp_generation_2//18_6t3/TCGA-A2-A0CW-01Z-00-DX1.svs\n",
      "Percent of pixels lost in pre-processing for TCGA-A2-A0CW-01Z-00-DX1.svs:                       0.05436136525563054 %\n"
     ]
    },
    {
     "name": "stderr",
     "output_type": "stream",
     "text": [
      " 89%|████████▉ | 8/9 [23:46<02:56, 176.70s/it]"
     ]
    },
    {
     "name": "stdout",
     "output_type": "stream",
     "text": [
      "/Users/hanson/Documents/UW/Courses/2 Winter 2024/CHEM E 546/Mittal-Project/sp_generation_2//20_5t4/TCGA-A2-A0CW-01Z-00-DX1.svs\n",
      "Percent of pixels lost in pre-processing for TCGA-A2-A0CW-01Z-00-DX1.svs:                       0.04293681602870045 %\n"
     ]
    },
    {
     "name": "stderr",
     "output_type": "stream",
     "text": [
      "100%|██████████| 9/9 [26:34<00:00, 177.22s/it]\n"
     ]
    }
   ],
   "source": [
    "from tilseg.preprocessing import preprocess\n",
    "from tqdm import trange\n",
    "superpatches_2 = []\n",
    "patches_n = [6,8,9,10,12,15,16,18,20]\n",
    "sp_widths = [3,4,3,5,4,5,4,6,5]\n",
    "p_dim = [[4000,3000],[3000,2000],[4000,2000],[2400,3000],[3000,2000],[2400,2000],[3000,1500],\n",
    "         [2000,2000],[2400,1500]]\n",
    "for i in trange(9):\n",
    "    superpatches_2.append(preprocess(path=paths[i],patches=patches_n[i],sp_width=sp_widths[i],\n",
    "                                   max_tile_x=p_dim[i][0],max_tile_y=p_dim[i][1],save_im=False))"
   ]
  },
  {
   "cell_type": "code",
   "execution_count": null,
   "metadata": {},
   "outputs": [],
   "source": []
  }
 ],
 "metadata": {
  "kernelspec": {
   "display_name": "546proj_mac",
   "language": "python",
   "name": "python3"
  },
  "language_info": {
   "codemirror_mode": {
    "name": "ipython",
    "version": 3
   },
   "file_extension": ".py",
   "mimetype": "text/x-python",
   "name": "python",
   "nbconvert_exporter": "python",
   "pygments_lexer": "ipython3",
   "version": "3.11.8"
  }
 },
 "nbformat": 4,
 "nbformat_minor": 2
}
