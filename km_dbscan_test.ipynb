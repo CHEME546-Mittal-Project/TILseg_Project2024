{
 "cells": [
  {
   "cell_type": "code",
   "execution_count": 2,
   "metadata": {},
   "outputs": [],
   "source": [
    "import sys\n",
    "sys.path.append('/Users/lisacarr/Documents/SEMDS')\n",
    "sys.path.append('/Users/lisacarr/Documents/SEMDS/TILseg_Project2024')\n",
    "\n",
    "from TILseg_Project2024.km_dbscan import kmeans_superpatch_fit, km_dbscan"
   ]
  },
  {
   "cell_type": "code",
   "execution_count": 3,
   "metadata": {},
   "outputs": [],
   "source": [
    "kmeans = kmeans_superpatch_fit('/Users/lisacarr/Desktop/images/superpatch_training.tif')"
   ]
  },
  {
   "cell_type": "code",
   "execution_count": 4,
   "metadata": {},
   "outputs": [
    {
     "ename": "",
     "evalue": "",
     "output_type": "error",
     "traceback": [
      "\u001b[1;31mThe Kernel crashed while executing code in the current cell or a previous cell. \n",
      "\u001b[1;31mPlease review the code in the cell(s) to identify a possible cause of the failure. \n",
      "\u001b[1;31mClick <a href='https://aka.ms/vscodeJupyterKernelCrash'>here</a> for more info. \n",
      "\u001b[1;31mView Jupyter <a href='command:jupyter.viewOutput'>log</a> for further details."
     ]
    }
   ],
   "source": [
    "patch_path = '/Users/lisacarr/Desktop/images/test patches/position_7_8tissue.tif'\n",
    "final_labels = km_dbscan(kmeans, patch_path, 1.0, 10)"
   ]
  },
  {
   "cell_type": "code",
   "execution_count": 9,
   "metadata": {},
   "outputs": [],
   "source": [
    "def visualize_clusters(labels, title):\n",
    "    plt.imshow(labels.reshape(image.shape[:2]), cmap='viridis')\n",
    "    plt.title(title)\n",
    "    plt.colorbar()"
   ]
  },
  {
   "cell_type": "code",
   "execution_count": null,
   "metadata": {},
   "outputs": [],
   "source": [
    "# Visualize KMeans clusters\n",
    "plt.figure(figsize=(12, 4))\n",
    "plt.subplot(1, 3, 1)\n",
    "visualize_clusters(km_labels, 'KMeans Clusters')\n",
    "\n",
    "# Visualize DBSCAN clusters\n",
    "plt.subplot(1, 3, 2)\n",
    "visualize_clusters(dbscan_labels, 'DBSCAN Clusters')\n",
    "\n",
    "# Visualize final labels\n",
    "plt.subplot(1, 3, 3)\n",
    "visualize_clusters(final_labels, 'Final Labels')\n",
    "\n",
    "plt.tight_layout()\n",
    "plt.show()"
   ]
  }
 ],
 "metadata": {
  "kernelspec": {
   "display_name": "tilseg_mac2",
   "language": "python",
   "name": "python3"
  },
  "language_info": {
   "codemirror_mode": {
    "name": "ipython",
    "version": 3
   },
   "file_extension": ".py",
   "mimetype": "text/x-python",
   "name": "python",
   "nbconvert_exporter": "python",
   "pygments_lexer": "ipython3",
   "version": "3.12.2"
  }
 },
 "nbformat": 4,
 "nbformat_minor": 2
}
