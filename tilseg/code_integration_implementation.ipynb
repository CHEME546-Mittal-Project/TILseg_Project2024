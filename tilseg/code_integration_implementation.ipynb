{
 "cells": [
  {
   "cell_type": "code",
   "execution_count": 1,
   "id": "eb1c80a4",
   "metadata": {},
   "outputs": [],
   "source": [
    "import cluster"
   ]
  },
  {
   "cell_type": "code",
   "execution_count": 2,
   "id": "69711de5",
   "metadata": {},
   "outputs": [],
   "source": [
    "model_T370 = cluster.cluster_model_fitter(\n",
    "    patch_path='/Users/abishek/Desktop/DataScienceClasses/TILseg/abi_patches/patch/TCGA-3C-AALI-01Z-00-DX1_T370.tif',\n",
    "    algorithm='KMeans',\n",
    "    n_clusters=4)"
   ]
  },
  {
   "cell_type": "code",
   "execution_count": 3,
   "id": "a6f9219b",
   "metadata": {},
   "outputs": [
    {
     "ename": "IndexError",
     "evalue": "index 4 is out of bounds for axis 0 with size 4",
     "output_type": "error",
     "traceback": [
      "\u001b[0;31m---------------------------------------------------------------------------\u001b[0m",
      "\u001b[0;31mIndexError\u001b[0m                                Traceback (most recent call last)",
      "Input \u001b[0;32mIn [3]\u001b[0m, in \u001b[0;36m<cell line: 1>\u001b[0;34m()\u001b[0m\n\u001b[0;32m----> 1\u001b[0m \u001b[43mcluster\u001b[49m\u001b[38;5;241;43m.\u001b[39;49m\u001b[43mpred_and_cluster\u001b[49m\u001b[43m(\u001b[49m\u001b[43mmodel\u001b[49m\u001b[38;5;241;43m=\u001b[39;49m\u001b[43mmodel_T370\u001b[49m\u001b[43m,\u001b[49m\u001b[43m \u001b[49m\n\u001b[1;32m      2\u001b[0m \u001b[43m                         \u001b[49m\u001b[43min_dir_path\u001b[49m\u001b[38;5;241;43m=\u001b[39;49m\u001b[38;5;124;43m'\u001b[39;49m\u001b[38;5;124;43m/Users/abishek/Desktop/DataScienceClasses/TILseg/abi_patches/patch\u001b[39;49m\u001b[38;5;124;43m'\u001b[39;49m\u001b[43m,\u001b[49m\u001b[43m \u001b[49m\n\u001b[1;32m      3\u001b[0m \u001b[43m                         \u001b[49m\u001b[43mout_dir_path\u001b[49m\u001b[38;5;241;43m=\u001b[39;49m\u001b[38;5;124;43m'\u001b[39;49m\u001b[38;5;124;43m/Users/abishek/Desktop/DataScienceClasses/TILseg/abi_patches/img_postprocessing\u001b[39;49m\u001b[38;5;124;43m'\u001b[39;49m\u001b[43m,\u001b[49m\n\u001b[1;32m      4\u001b[0m \u001b[43m                         \u001b[49m\u001b[43malgorithm\u001b[49m\u001b[38;5;241;43m=\u001b[39;49m\u001b[38;5;124;43m'\u001b[39;49m\u001b[38;5;124;43mKMeans\u001b[39;49m\u001b[38;5;124;43m'\u001b[39;49m\u001b[43m,\u001b[49m\n\u001b[1;32m      5\u001b[0m \u001b[43m                         \u001b[49m\u001b[43msave_cluster_masks\u001b[49m\u001b[38;5;241;43m=\u001b[39;49m\u001b[38;5;28;43;01mTrue\u001b[39;49;00m\u001b[43m,\u001b[49m\n\u001b[1;32m      6\u001b[0m \u001b[43m                         \u001b[49m\u001b[43msave_composite_cluster_mask\u001b[49m\u001b[38;5;241;43m=\u001b[39;49m\u001b[38;5;28;43;01mTrue\u001b[39;49;00m\u001b[43m,\u001b[49m\n\u001b[1;32m      7\u001b[0m \u001b[43m                         \u001b[49m\u001b[43msave_cluster_overlays\u001b[49m\u001b[38;5;241;43m=\u001b[39;49m\u001b[38;5;28;43;01mTrue\u001b[39;49;00m\u001b[43m,\u001b[49m\n\u001b[1;32m      8\u001b[0m \u001b[43m                         \u001b[49m\u001b[43msave_csv\u001b[49m\u001b[38;5;241;43m=\u001b[39;49m\u001b[38;5;28;43;01mFalse\u001b[39;49;00m\u001b[43m)\u001b[49m\n",
      "File \u001b[0;32m~/Desktop/DataScienceClasses/TILseg/tilseg/cluster.py:353\u001b[0m, in \u001b[0;36mpred_and_cluster\u001b[0;34m(model, in_dir_path, out_dir_path, algorithm, save_cluster_masks, save_composite_cluster_mask, save_cluster_overlays, save_csv)\u001b[0m\n\u001b[1;32m    350\u001b[0m         \u001b[38;5;28mprint\u001b[39m(\u001b[38;5;124m\"\u001b[39m\u001b[38;5;124mLooks like the model is being trained for more than 8 clusters. Please consider training it on less number of clusters.\u001b[39m\u001b[38;5;124m\"\u001b[39m)\n\u001b[1;32m    351\u001b[0m         \u001b[38;5;28;01mraise\u001b[39;00m\n\u001b[0;32m--> 353\u001b[0m     \u001b[43mimage_postprocessing\u001b[49m\u001b[43m(\u001b[49m\u001b[43mclusters\u001b[49m\u001b[38;5;241;43m=\u001b[39;49m\u001b[43mlabels\u001b[49m\u001b[38;5;241;43m.\u001b[39;49m\u001b[43mreshape\u001b[49m\u001b[43m(\u001b[49m\u001b[43mpred_patch\u001b[49m\u001b[38;5;241;43m.\u001b[39;49m\u001b[43mshape\u001b[49m\u001b[43m[\u001b[49m\u001b[38;5;241;43m0\u001b[39;49m\u001b[43m]\u001b[49m\u001b[43m,\u001b[49m\u001b[43m \u001b[49m\u001b[43mpred_patch\u001b[49m\u001b[38;5;241;43m.\u001b[39;49m\u001b[43mshape\u001b[49m\u001b[43m[\u001b[49m\u001b[38;5;241;43m1\u001b[39;49m\u001b[43m]\u001b[49m\u001b[43m)\u001b[49m\u001b[43m,\u001b[49m\u001b[43m \u001b[49m\n\u001b[1;32m    354\u001b[0m \u001b[43m                         \u001b[49m\u001b[43mori_img\u001b[49m\u001b[38;5;241;43m=\u001b[39;49m\u001b[43mpred_patch\u001b[49m\u001b[43m,\u001b[49m\u001b[43m \u001b[49m\n\u001b[1;32m    355\u001b[0m \u001b[43m                         \u001b[49m\u001b[43mfilepath\u001b[49m\u001b[38;5;241;43m=\u001b[39;49m\u001b[43mout_dir_path\u001b[49m\u001b[43m,\u001b[49m\u001b[43m \u001b[49m\n\u001b[1;32m    356\u001b[0m \u001b[43m                         \u001b[49m\u001b[43mgen_overlays\u001b[49m\u001b[38;5;241;43m=\u001b[39;49m\u001b[43msave_cluster_overlays\u001b[49m\u001b[43m,\u001b[49m\u001b[43m \u001b[49m\n\u001b[1;32m    357\u001b[0m \u001b[43m                         \u001b[49m\u001b[43mgen_masks\u001b[49m\u001b[38;5;241;43m=\u001b[39;49m\u001b[43msave_cluster_masks\u001b[49m\u001b[43m,\u001b[49m\u001b[43m \u001b[49m\n\u001b[1;32m    358\u001b[0m \u001b[43m                         \u001b[49m\u001b[43mgen_csv\u001b[49m\u001b[38;5;241;43m=\u001b[39;49m\u001b[43msave_csv\u001b[49m\u001b[43m)\u001b[49m\n\u001b[1;32m    360\u001b[0m \u001b[38;5;28;01mreturn\u001b[39;00m \u001b[38;5;28;01mNone\u001b[39;00m\n",
      "File \u001b[0;32m~/Desktop/DataScienceClasses/TILseg/tilseg/cluster.py:106\u001b[0m, in \u001b[0;36mimage_postprocessing\u001b[0;34m(clusters, ori_img, filepath, gen_overlays, gen_masks, gen_csv)\u001b[0m\n\u001b[1;32m    103\u001b[0m cv2\u001b[38;5;241m.\u001b[39mimwrite(\u001b[38;5;124m\"\u001b[39m\u001b[38;5;124mAllClusters.jpg\u001b[39m\u001b[38;5;124m\"\u001b[39m, all_masks)\n\u001b[1;32m    105\u001b[0m \u001b[38;5;28;01mif\u001b[39;00m gen_overlays:\n\u001b[0;32m--> 106\u001b[0m     \u001b[43mgenerate_image_series\u001b[49m\u001b[43m(\u001b[49m\u001b[43mmasked_images\u001b[49m\u001b[43m,\u001b[49m\u001b[43m \u001b[49m\u001b[43mfilepath\u001b[49m\u001b[43m,\u001b[49m\u001b[43m \u001b[49m\u001b[38;5;124;43m\"\u001b[39;49m\u001b[38;5;124;43mOverlaid_Images\u001b[39;49m\u001b[38;5;124;43m\"\u001b[39;49m\u001b[43m)\u001b[49m\n\u001b[1;32m    107\u001b[0m \u001b[38;5;28;01melse\u001b[39;00m:\n\u001b[1;32m    108\u001b[0m     \u001b[38;5;28;01mpass\u001b[39;00m\n",
      "File \u001b[0;32m~/Desktop/DataScienceClasses/TILseg/tilseg/cluster.py:51\u001b[0m, in \u001b[0;36mgenerate_image_series\u001b[0;34m(image_array, filepath, prefix)\u001b[0m\n\u001b[1;32m     49\u001b[0m os\u001b[38;5;241m.\u001b[39mchdir(path)\n\u001b[1;32m     50\u001b[0m \u001b[38;5;28;01mfor\u001b[39;00m count \u001b[38;5;129;01min\u001b[39;00m \u001b[38;5;28mrange\u001b[39m(dims[\u001b[38;5;241m2\u001b[39m]\u001b[38;5;241m+\u001b[39m\u001b[38;5;241m1\u001b[39m):\n\u001b[0;32m---> 51\u001b[0m     cv2\u001b[38;5;241m.\u001b[39mimwrite(\u001b[38;5;124mf\u001b[39m\u001b[38;5;124m\"\u001b[39m\u001b[38;5;124mImage\u001b[39m\u001b[38;5;132;01m{\u001b[39;00mcount \u001b[38;5;241m+\u001b[39m \u001b[38;5;241m1\u001b[39m\u001b[38;5;132;01m}\u001b[39;00m\u001b[38;5;124m.jpg\u001b[39m\u001b[38;5;124m\"\u001b[39m, \u001b[43mimage_array\u001b[49m\u001b[43m[\u001b[49m\u001b[43mcount\u001b[49m\u001b[43m]\u001b[49m[:][:][:])\n",
      "\u001b[0;31mIndexError\u001b[0m: index 4 is out of bounds for axis 0 with size 4"
     ]
    }
   ],
   "source": [
    "cluster.pred_and_cluster(model=model_T370, \n",
    "                         in_dir_path='/Users/abishek/Desktop/DataScienceClasses/TILseg/abi_patches/patch', \n",
    "                         out_dir_path='/Users/abishek/Desktop/DataScienceClasses/TILseg/abi_patches/img_postprocessing',\n",
    "                         algorithm='KMeans',\n",
    "                         save_cluster_masks=True,\n",
    "                         save_composite_cluster_mask=True,\n",
    "                         save_cluster_overlays=True,\n",
    "                         save_csv=False)"
   ]
  },
  {
   "cell_type": "code",
   "execution_count": null,
   "id": "d08b7aae",
   "metadata": {},
   "outputs": [],
   "source": []
  }
 ],
 "metadata": {
  "kernelspec": {
   "display_name": "Python 3 (ipykernel)",
   "language": "python",
   "name": "python3"
  },
  "language_info": {
   "codemirror_mode": {
    "name": "ipython",
    "version": 3
   },
   "file_extension": ".py",
   "mimetype": "text/x-python",
   "name": "python",
   "nbconvert_exporter": "python",
   "pygments_lexer": "ipython3",
   "version": "3.9.12"
  }
 },
 "nbformat": 4,
 "nbformat_minor": 5
}
