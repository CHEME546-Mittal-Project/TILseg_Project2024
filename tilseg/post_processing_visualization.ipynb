{
 "cells": [
  {
   "cell_type": "code",
   "execution_count": 1,
   "id": "29363bc0",
   "metadata": {},
   "outputs": [],
   "source": [
    "import matplotlib.pyplot as plt\n",
    "import numpy as np\n",
    "\n",
    "import cluster_processing"
   ]
  },
  {
   "cell_type": "code",
   "execution_count": 2,
   "id": "fc964be3",
   "metadata": {},
   "outputs": [],
   "source": [
    "import seaborn as sns\n",
    "import pandas as pd\n",
    "import cv2 as cv\n",
    "from IPython.display import Image"
   ]
  },
  {
   "cell_type": "code",
   "execution_count": 3,
   "id": "d6deaab2",
   "metadata": {},
   "outputs": [
    {
     "data": {
      "text/plain": [
       "'\\nfinal, binary, all_clusters = cluster_processing.image_overlay_generator(test_array, original_image1)\\nareas_to_plot=[]\\nfor i in range(4):\\n    contours, contour_len = cluster_processing.contour_generator(binary[i])\\n    areas_to_plot.append(contours)\\n'"
      ]
     },
     "execution_count": 3,
     "metadata": {},
     "output_type": "execute_result"
    }
   ],
   "source": [
    "original_image1 = np.load(\"/home/bradyr18/patch.npy\")\n",
    "test_array = np.load(\"/home/bradyr18/cluster2.npy\")\n",
    "test_array=np.reshape(test_array, (3000, 4000))\n",
    "\n",
    "\n",
    "'''\n",
    "final, binary, all_clusters = cluster_processing.image_overlay_generator(test_array, original_image1)\n",
    "areas_to_plot=[]\n",
    "for i in range(4):\n",
    "    contours, contour_len = cluster_processing.contour_generator(binary[i])\n",
    "    areas_to_plot.append(contours)\n",
    "'''"
   ]
  },
  {
   "cell_type": "code",
   "execution_count": 4,
   "id": "2a387db5",
   "metadata": {},
   "outputs": [
    {
     "data": {
      "text/plain": [
       "4079"
      ]
     },
     "execution_count": 4,
     "metadata": {},
     "output_type": "execute_result"
    }
   ],
   "source": [
    "cluster_processing.image_postprocessing(test_array, original_image1, \"/home/bradyr18\", gen_all_clusters = True,\n",
    "                                        gen_overlays=True, gen_masks=True, gen_tils = True, gen_csv=True)"
   ]
  },
  {
   "cell_type": "code",
   "execution_count": 8,
   "id": "07e5cae8",
   "metadata": {},
   "outputs": [
    {
     "name": "stdout",
     "output_type": "stream",
     "text": [
      "Time to process image: 25.792\n"
     ]
    },
    {
     "data": {
      "text/plain": [
       "4079"
      ]
     },
     "execution_count": 8,
     "metadata": {},
     "output_type": "execute_result"
    }
   ],
   "source": [
    "cluster_processing.image_postprocessing(test_array, original_image1, \"/home/bradyr18\", \n",
    "                                        gen_overlays=False, gen_masks=False, gen_all_clusters=True, gen_tils = False, gen_csv=False)"
   ]
  },
  {
   "cell_type": "code",
   "execution_count": 6,
   "id": "be554b6e",
   "metadata": {},
   "outputs": [
    {
     "ename": "NameError",
     "evalue": "name 'img1' is not defined",
     "output_type": "error",
     "traceback": [
      "\u001b[0;31m---------------------------------------------------------------------------\u001b[0m",
      "\u001b[0;31mNameError\u001b[0m                                 Traceback (most recent call last)",
      "Cell \u001b[0;32mIn[6], line 1\u001b[0m\n\u001b[0;32m----> 1\u001b[0m img1\u001b[38;5;241m=\u001b[39mcv\u001b[38;5;241m.\u001b[39mdrawContours(\u001b[43mimg1\u001b[49m, areas_to_plot[\u001b[38;5;241m0\u001b[39m], \u001b[38;5;241m-\u001b[39m\u001b[38;5;241m1\u001b[39m, (\u001b[38;5;241m0\u001b[39m,\u001b[38;5;241m255\u001b[39m,\u001b[38;5;241m0\u001b[39m), \u001b[38;5;241m3\u001b[39m)\n\u001b[1;32m      2\u001b[0m plt\u001b[38;5;241m.\u001b[39mimshow(img1)\n\u001b[1;32m      3\u001b[0m plt\u001b[38;5;241m.\u001b[39mshow()\n",
      "\u001b[0;31mNameError\u001b[0m: name 'img1' is not defined"
     ]
    }
   ],
   "source": [
    "img1=cv.drawContours(img1, areas_to_plot[0], -1, (0,255,0), 3)\n",
    "plt.imshow(img1)\n",
    "plt.show()"
   ]
  },
  {
   "cell_type": "code",
   "execution_count": null,
   "id": "917a3893",
   "metadata": {},
   "outputs": [],
   "source": [
    "test = areas_to_plot[0]\n",
    "print(test)\n",
    "img2=cv.drawContours(img2, test, -1, (0,255,0), 3)\n",
    "plt.imshow(img2)\n",
    "plt.show()\n",
    "cv.imwrite(\"Test.tif\", img2)"
   ]
  },
  {
   "cell_type": "code",
   "execution_count": null,
   "id": "85874976",
   "metadata": {},
   "outputs": [],
   "source": [
    "img3=cv.drawContours(img3, areas_to_plot[2], -1, (0,255,0), 3)\n",
    "plt.imshow(img3)\n",
    "plt.show()"
   ]
  },
  {
   "cell_type": "code",
   "execution_count": null,
   "id": "6a3fff12",
   "metadata": {},
   "outputs": [],
   "source": [
    "img4=cv.drawContours(img4, areas_to_plot[3], -1, (0,255,0), 3)\n",
    "plt.imshow(img4)\n",
    "plt.show()"
   ]
  },
  {
   "cell_type": "code",
   "execution_count": null,
   "id": "61d0773e",
   "metadata": {},
   "outputs": [],
   "source": []
  },
  {
   "cell_type": "code",
   "execution_count": null,
   "id": "dead0a39",
   "metadata": {},
   "outputs": [],
   "source": []
  }
 ],
 "metadata": {
  "kernelspec": {
   "display_name": "Python 3 (ipykernel)",
   "language": "python",
   "name": "python3"
  },
  "language_info": {
   "codemirror_mode": {
    "name": "ipython",
    "version": 3
   },
   "file_extension": ".py",
   "mimetype": "text/x-python",
   "name": "python",
   "nbconvert_exporter": "python",
   "pygments_lexer": "ipython3",
   "version": "3.10.8"
  }
 },
 "nbformat": 4,
 "nbformat_minor": 5
}
