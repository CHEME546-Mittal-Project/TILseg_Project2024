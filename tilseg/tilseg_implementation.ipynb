{
 "cells": [
  {
   "cell_type": "markdown",
   "id": "df7affc5",
   "metadata": {},
   "source": [
    "<b>This next part is for Ryan:</b> you might have to update the patch path"
   ]
  },
  {
   "cell_type": "code",
   "execution_count": 21,
   "id": "a6ca0cdc",
   "metadata": {},
   "outputs": [],
   "source": [
    "import numpy as np\n",
    "import matplotlib.pyplot as plt\n",
    "from sklearn.cluster import KMeans\n",
    "from skimage import io"
   ]
  },
  {
   "cell_type": "code",
   "execution_count": 11,
   "id": "ef5167f2",
   "metadata": {},
   "outputs": [],
   "source": [
    "patch_path = '/Users/abishek/Desktop/DataScienceClasses/TILseg/abi_patches/TCGA-3C-AALI-01Z-00-DX1_T370.tif'"
   ]
  },
  {
   "cell_type": "code",
   "execution_count": 12,
   "id": "36db233a",
   "metadata": {},
   "outputs": [
    {
     "data": {
      "text/plain": [
       "'.tif'"
      ]
     },
     "execution_count": 12,
     "metadata": {},
     "output_type": "execute_result"
    }
   ],
   "source": [
    "patch_path[-4:]"
   ]
  },
  {
   "cell_type": "code",
   "execution_count": 13,
   "id": "a112970b",
   "metadata": {},
   "outputs": [
    {
     "data": {
      "text/html": [
       "<style>#sk-container-id-1 {color: black;background-color: white;}#sk-container-id-1 pre{padding: 0;}#sk-container-id-1 div.sk-toggleable {background-color: white;}#sk-container-id-1 label.sk-toggleable__label {cursor: pointer;display: block;width: 100%;margin-bottom: 0;padding: 0.3em;box-sizing: border-box;text-align: center;}#sk-container-id-1 label.sk-toggleable__label-arrow:before {content: \"▸\";float: left;margin-right: 0.25em;color: #696969;}#sk-container-id-1 label.sk-toggleable__label-arrow:hover:before {color: black;}#sk-container-id-1 div.sk-estimator:hover label.sk-toggleable__label-arrow:before {color: black;}#sk-container-id-1 div.sk-toggleable__content {max-height: 0;max-width: 0;overflow: hidden;text-align: left;background-color: #f0f8ff;}#sk-container-id-1 div.sk-toggleable__content pre {margin: 0.2em;color: black;border-radius: 0.25em;background-color: #f0f8ff;}#sk-container-id-1 input.sk-toggleable__control:checked~div.sk-toggleable__content {max-height: 200px;max-width: 100%;overflow: auto;}#sk-container-id-1 input.sk-toggleable__control:checked~label.sk-toggleable__label-arrow:before {content: \"▾\";}#sk-container-id-1 div.sk-estimator input.sk-toggleable__control:checked~label.sk-toggleable__label {background-color: #d4ebff;}#sk-container-id-1 div.sk-label input.sk-toggleable__control:checked~label.sk-toggleable__label {background-color: #d4ebff;}#sk-container-id-1 input.sk-hidden--visually {border: 0;clip: rect(1px 1px 1px 1px);clip: rect(1px, 1px, 1px, 1px);height: 1px;margin: -1px;overflow: hidden;padding: 0;position: absolute;width: 1px;}#sk-container-id-1 div.sk-estimator {font-family: monospace;background-color: #f0f8ff;border: 1px dotted black;border-radius: 0.25em;box-sizing: border-box;margin-bottom: 0.5em;}#sk-container-id-1 div.sk-estimator:hover {background-color: #d4ebff;}#sk-container-id-1 div.sk-parallel-item::after {content: \"\";width: 100%;border-bottom: 1px solid gray;flex-grow: 1;}#sk-container-id-1 div.sk-label:hover label.sk-toggleable__label {background-color: #d4ebff;}#sk-container-id-1 div.sk-serial::before {content: \"\";position: absolute;border-left: 1px solid gray;box-sizing: border-box;top: 0;bottom: 0;left: 50%;z-index: 0;}#sk-container-id-1 div.sk-serial {display: flex;flex-direction: column;align-items: center;background-color: white;padding-right: 0.2em;padding-left: 0.2em;position: relative;}#sk-container-id-1 div.sk-item {position: relative;z-index: 1;}#sk-container-id-1 div.sk-parallel {display: flex;align-items: stretch;justify-content: center;background-color: white;position: relative;}#sk-container-id-1 div.sk-item::before, #sk-container-id-1 div.sk-parallel-item::before {content: \"\";position: absolute;border-left: 1px solid gray;box-sizing: border-box;top: 0;bottom: 0;left: 50%;z-index: -1;}#sk-container-id-1 div.sk-parallel-item {display: flex;flex-direction: column;z-index: 1;position: relative;background-color: white;}#sk-container-id-1 div.sk-parallel-item:first-child::after {align-self: flex-end;width: 50%;}#sk-container-id-1 div.sk-parallel-item:last-child::after {align-self: flex-start;width: 50%;}#sk-container-id-1 div.sk-parallel-item:only-child::after {width: 0;}#sk-container-id-1 div.sk-dashed-wrapped {border: 1px dashed gray;margin: 0 0.4em 0.5em 0.4em;box-sizing: border-box;padding-bottom: 0.4em;background-color: white;}#sk-container-id-1 div.sk-label label {font-family: monospace;font-weight: bold;display: inline-block;line-height: 1.2em;}#sk-container-id-1 div.sk-label-container {text-align: center;}#sk-container-id-1 div.sk-container {/* jupyter's `normalize.less` sets `[hidden] { display: none; }` but bootstrap.min.css set `[hidden] { display: none !important; }` so we also need the `!important` here to be able to override the default hidden behavior on the sphinx rendered scikit-learn.org. See: https://github.com/scikit-learn/scikit-learn/issues/21755 */display: inline-block !important;position: relative;}#sk-container-id-1 div.sk-text-repr-fallback {display: none;}</style><div id=\"sk-container-id-1\" class=\"sk-top-container\"><div class=\"sk-text-repr-fallback\"><pre>KMeans(max_iter=20, n_init=3, tol=0.001)</pre><b>In a Jupyter environment, please rerun this cell to show the HTML representation or trust the notebook. <br />On GitHub, the HTML representation is unable to render, please try loading this page with nbviewer.org.</b></div><div class=\"sk-container\" hidden><div class=\"sk-item\"><div class=\"sk-estimator sk-toggleable\"><input class=\"sk-toggleable__control sk-hidden--visually\" id=\"sk-estimator-id-1\" type=\"checkbox\" checked><label for=\"sk-estimator-id-1\" class=\"sk-toggleable__label sk-toggleable__label-arrow\">KMeans</label><div class=\"sk-toggleable__content\"><pre>KMeans(max_iter=20, n_init=3, tol=0.001)</pre></div></div></div></div></div>"
      ],
      "text/plain": [
       "KMeans(max_iter=20, n_init=3, tol=0.001)"
      ]
     },
     "execution_count": 13,
     "metadata": {},
     "output_type": "execute_result"
    }
   ],
   "source": [
    "model = KMeans(n_clusters=8, max_iter=20,\n",
    "                  n_init=3, tol=1e-3)\n",
    "# Reads the patch into a numpy uint8 array    \n",
    "fit_patch = plt.imread(patch_path) \n",
    "# Linearizes the array for R, G, and B separately and normalizes\n",
    "# The result is an N X 3 array where N=height*width of the patch in pixels\n",
    "fit_patch_n = np.float32(fit_patch.reshape((-1, 3))/255.)\n",
    "# Fits the model to our linearized and normalized patch data \n",
    "model.fit(fit_patch_n)"
   ]
  },
  {
   "cell_type": "code",
   "execution_count": 15,
   "id": "a31caaf4",
   "metadata": {},
   "outputs": [],
   "source": [
    "small_patch = fit_patch[:300, :400]"
   ]
  },
  {
   "cell_type": "code",
   "execution_count": 22,
   "id": "f19d2bfa",
   "metadata": {},
   "outputs": [],
   "source": [
    "io.imsave('/Users/abishek/Desktop/DataScienceClasses/TILseg/abi_patches/test_patch.tif', small_patch)"
   ]
  },
  {
   "cell_type": "code",
   "execution_count": 32,
   "id": "cebbffa4",
   "metadata": {},
   "outputs": [],
   "source": [
    "# Predicting on the same patch we fit for now\n",
    "pred_patch_n = fit_patch_n\n",
    "labels = model.predict(pred_patch_n)"
   ]
  },
  {
   "cell_type": "code",
   "execution_count": 33,
   "id": "3d57bdbb",
   "metadata": {},
   "outputs": [
    {
     "name": "stdout",
     "output_type": "stream",
     "text": [
      "(12000000, 3)\n"
     ]
    },
    {
     "data": {
      "text/plain": [
       "array([[0.85490197, 0.7254902 , 0.8235294 ],\n",
       "       [0.6784314 , 0.54901963, 0.64705884],\n",
       "       [0.5882353 , 0.4627451 , 0.54901963],\n",
       "       ...,\n",
       "       [0.95686275, 0.8666667 , 0.9137255 ],\n",
       "       [0.9607843 , 0.88235295, 0.92156863],\n",
       "       [0.9411765 , 0.87058824, 0.9019608 ]], dtype=float32)"
      ]
     },
     "execution_count": 33,
     "metadata": {},
     "output_type": "execute_result"
    }
   ],
   "source": [
    "print(pred_patch_n.shape)\n",
    "pred_patch_n"
   ]
  },
  {
   "cell_type": "code",
   "execution_count": 34,
   "id": "2ad6e243",
   "metadata": {},
   "outputs": [
    {
     "name": "stdout",
     "output_type": "stream",
     "text": [
      "(12000000,)\n"
     ]
    },
    {
     "data": {
      "text/plain": [
       "array([4, 1, 3, ..., 0, 0, 0], dtype=int32)"
      ]
     },
     "execution_count": 34,
     "metadata": {},
     "output_type": "execute_result"
    }
   ],
   "source": [
    "print(labels.shape)\n",
    "labels"
   ]
  },
  {
   "cell_type": "code",
   "execution_count": 35,
   "id": "14b39f53",
   "metadata": {},
   "outputs": [
    {
     "data": {
      "text/plain": [
       "4000"
      ]
     },
     "execution_count": 35,
     "metadata": {},
     "output_type": "execute_result"
    }
   ],
   "source": [
    "fit_patch.shape[1]"
   ]
  },
  {
   "cell_type": "code",
   "execution_count": 38,
   "id": "b4cb6148",
   "metadata": {},
   "outputs": [
    {
     "data": {
      "text/plain": [
       "(3000, 4000)"
      ]
     },
     "execution_count": 38,
     "metadata": {},
     "output_type": "execute_result"
    }
   ],
   "source": [
    "clustered_patch_labels = np.resize(labels, (fit_patch.shape[0], fit_patch.shape[1]))\n",
    "clustered_patch_labels.shape"
   ]
  },
  {
   "cell_type": "markdown",
   "id": "ebc653cf",
   "metadata": {},
   "source": [
    "Implementing <b>tilseg.cluster</b>"
   ]
  },
  {
   "cell_type": "code",
   "execution_count": 30,
   "id": "1b619bd0",
   "metadata": {},
   "outputs": [],
   "source": [
    "import cluster"
   ]
  },
  {
   "cell_type": "code",
   "execution_count": 31,
   "id": "69711de5",
   "metadata": {},
   "outputs": [],
   "source": [
    "model_T370 = cluster.cluster_model_fitter(\n",
    "    patch_path='/Users/abishek/Desktop/DataScienceClasses/TILseg/abi_patches/TCGA-3C-AALI-01Z-00-DX1_T370.tif',\n",
    "    algorithm='KMeans',\n",
    "    n_clusters=4)"
   ]
  },
  {
   "cell_type": "code",
   "execution_count": 7,
   "id": "b244c84b",
   "metadata": {},
   "outputs": [],
   "source": [
    "cluster.pred_and_cluster(\n",
    "    model=model_T370,\n",
    "    in_dir_path='/Users/abishek/Desktop/DataScienceClasses/TILseg/abi_patches',\n",
    "    out_dir_path='/Users/abishek/Desktop/DataScienceClasses/Project/model_T370',\n",
    "    )"
   ]
  },
  {
   "cell_type": "code",
   "execution_count": 4,
   "id": "6cac48c2",
   "metadata": {},
   "outputs": [],
   "source": [
    "model_super = cluster.cluster_model_fitter(\n",
    "    patch_path='/Users/abishek/Desktop/DataScienceClasses/messing_around/super_patch.tif',\n",
    "    algorithm='KMeans',\n",
    "    n_clusters=4)"
   ]
  },
  {
   "cell_type": "code",
   "execution_count": 8,
   "id": "59ecc4c5",
   "metadata": {},
   "outputs": [],
   "source": [
    "cluster.pred_and_cluster(\n",
    "    model=model_super,\n",
    "    in_dir_path='/Users/abishek/Desktop/DataScienceClasses/TILseg/abi_patches',\n",
    "    out_dir_path='/Users/abishek/Desktop/DataScienceClasses/Project/model_super',\n",
    "    )"
   ]
  },
  {
   "cell_type": "markdown",
   "id": "e81b464c",
   "metadata": {},
   "source": [
    "You can check the output overlays created by both models to compare training on the same image versus training on the super patch."
   ]
  },
  {
   "cell_type": "code",
   "execution_count": 32,
   "id": "0df435bf",
   "metadata": {},
   "outputs": [
    {
     "name": "stdout",
     "output_type": "stream",
     "text": [
      "29723280.608573735\n",
      "0.679668471385345\n"
     ]
    }
   ],
   "source": [
    "ch_score_T370, db_score_T370 = cluster.clustering_score(\n",
    "    model=model_T370, \n",
    "    patch_path='/Users/abishek/Desktop/DataScienceClasses/TILseg/abi_patches/TCGA-3C-AALI-01Z-00-DX1_T370.tif'\n",
    "    )\n",
    "\n",
    "print(ch_score_T370)\n",
    "print(db_score_T370)"
   ]
  },
  {
   "cell_type": "code",
   "execution_count": 10,
   "id": "8b77d35b",
   "metadata": {},
   "outputs": [
    {
     "name": "stdout",
     "output_type": "stream",
     "text": [
      "25289272.250682004\n",
      "0.6559003890987466\n"
     ]
    }
   ],
   "source": [
    "ch_score_super, db_score_super = cluster.clustering_score(\n",
    "    model=model_super, \n",
    "    patch_path='/Users/abishek/Desktop/DataScienceClasses/TILseg/abi_patches/TCGA-3C-AALI-01Z-00-DX1_T370.tif'\n",
    "    )\n",
    "\n",
    "print(ch_score_super)\n",
    "print(db_score_super)"
   ]
  },
  {
   "cell_type": "markdown",
   "id": "aec98d42",
   "metadata": {},
   "source": [
    "The Calinski-Harabasz Index is higher and better when fitting on the same patch, but the CH Index for fitting on the super patch is not too much lower. This means that the clusters are performing almost as good as the custom-fitted model.\n",
    "\n",
    "The Davies-Bouldin Score is actually lower for the model fitted on the super patch. This means that the the clustering is actually better with fitting on the super patch according to this metric."
   ]
  },
  {
   "cell_type": "code",
   "execution_count": 4,
   "id": "370593f2",
   "metadata": {},
   "outputs": [],
   "source": [
    "import matplotlib.pyplot as plt\n",
    "import numpy as np"
   ]
  },
  {
   "cell_type": "code",
   "execution_count": 5,
   "id": "2239a58d",
   "metadata": {},
   "outputs": [],
   "source": [
    "small_patch_path = '/Users/abishek/Desktop/DataScienceClasses/TILSeg/abi_patches/test_patch.tif'\n",
    "small_patch = plt.imread(small_patch_path)\n",
    "small_patch_n = np.float32(small_patch.reshape((-1, 3))/255.)"
   ]
  },
  {
   "cell_type": "code",
   "execution_count": 6,
   "id": "ad2da44f",
   "metadata": {},
   "outputs": [],
   "source": [
    "import sklearn.cluster"
   ]
  },
  {
   "cell_type": "code",
   "execution_count": 7,
   "id": "cfd22231",
   "metadata": {},
   "outputs": [],
   "source": [
    "model_DBSCAN = sklearn.cluster.DBSCAN()"
   ]
  },
  {
   "cell_type": "code",
   "execution_count": null,
   "id": "482b12ef",
   "metadata": {},
   "outputs": [],
   "source": [
    "# DBSCAN way too computationally expensive\n",
    "\n",
    "# model_DBSCAN.fit(small_patch_n)"
   ]
  },
  {
   "cell_type": "code",
   "execution_count": null,
   "id": "b59b492b",
   "metadata": {},
   "outputs": [],
   "source": [
    "model_OPT"
   ]
  }
 ],
 "metadata": {
  "kernelspec": {
   "display_name": "Python 3 (ipykernel)",
   "language": "python",
   "name": "python3"
  },
  "language_info": {
   "codemirror_mode": {
    "name": "ipython",
    "version": 3
   },
   "file_extension": ".py",
   "mimetype": "text/x-python",
   "name": "python",
   "nbconvert_exporter": "python",
   "pygments_lexer": "ipython3",
   "version": "3.9.12"
  }
 },
 "nbformat": 4,
 "nbformat_minor": 5
}
