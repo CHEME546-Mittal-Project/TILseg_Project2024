{
 "cells": [
  {
   "cell_type": "code",
   "execution_count": 2,
   "metadata": {},
   "outputs": [],
   "source": [
    "# import necessary functions\n",
    "from tilseg.preprocessing import preprocess\n",
    "# from tilseg.cluster_processing import #INSERT WRAPPER\n",
    "from tilseg.model_selection import opt_kmeans\n",
    "# from tilseg.seg import #INSERT WAPPER"
   ]
  },
  {
   "cell_type": "code",
   "execution_count": null,
   "metadata": {},
   "outputs": [],
   "source": [
    "superpatch = preprocess('/Users/example_user/slides_folder/')"
   ]
  },
  {
   "cell_type": "code",
   "execution_count": null,
   "metadata": {},
   "outputs": [],
   "source": [
    "# Reshape superpatch\n",
    "superpatch_array = superpatch.reshape((-1,3))/255.\n",
    "# Optimize hyperparameters for KMeans\n",
    "kmeans_parameters = opt_kmeans(superpatch_array, n_clusters = [1,2,3,4,5,6,7,8,9,10])"
   ]
  },
  {
   "cell_type": "code",
   "execution_count": null,
   "metadata": {},
   "outputs": [],
   "source": []
  },
  {
   "cell_type": "code",
   "execution_count": null,
   "metadata": {},
   "outputs": [],
   "source": []
  }
 ],
 "metadata": {
  "kernelspec": {
   "display_name": "Python 3 (ipykernel)",
   "language": "python",
   "name": "python3"
  },
  "language_info": {
   "codemirror_mode": {
    "name": "ipython",
    "version": 3
   },
   "file_extension": ".py",
   "mimetype": "text/x-python",
   "name": "python",
   "nbconvert_exporter": "python",
   "pygments_lexer": "ipython3",
   "version": "3.10.9"
  }
 },
 "nbformat": 4,
 "nbformat_minor": 2
}
